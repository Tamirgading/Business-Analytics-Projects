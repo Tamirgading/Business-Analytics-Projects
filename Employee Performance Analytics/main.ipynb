{
 "cells": [
  {
   "cell_type": "code",
   "execution_count": 19,
   "metadata": {},
   "outputs": [],
   "source": [
    "import pandas as pd"
   ]
  },
  {
   "cell_type": "code",
   "execution_count": 20,
   "metadata": {},
   "outputs": [
    {
     "name": "stderr",
     "output_type": "stream",
     "text": [
      "c:\\Users\\Lenovo\\AppData\\Local\\Programs\\Python\\Python38\\lib\\site-packages\\openpyxl\\worksheet\\_reader.py:329: UserWarning: Unknown extension is not supported and will be removed\n",
      "  warn(msg)\n"
     ]
    },
    {
     "data": {
      "text/html": [
       "<div>\n",
       "<style scoped>\n",
       "    .dataframe tbody tr th:only-of-type {\n",
       "        vertical-align: middle;\n",
       "    }\n",
       "\n",
       "    .dataframe tbody tr th {\n",
       "        vertical-align: top;\n",
       "    }\n",
       "\n",
       "    .dataframe thead th {\n",
       "        text-align: right;\n",
       "    }\n",
       "</style>\n",
       "<table border=\"1\" class=\"dataframe\">\n",
       "  <thead>\n",
       "    <tr style=\"text-align: right;\">\n",
       "      <th></th>\n",
       "      <th>Employe ID</th>\n",
       "      <th>Gender</th>\n",
       "      <th>Age</th>\n",
       "      <th>Education</th>\n",
       "      <th>Department</th>\n",
       "      <th>Performance Rating</th>\n",
       "      <th>Absent</th>\n",
       "      <th>Turnover</th>\n",
       "      <th>ESI 1</th>\n",
       "      <th>ESI 2</th>\n",
       "      <th>ESI 3</th>\n",
       "      <th>Promoted This Year</th>\n",
       "      <th>Complete the Training Course</th>\n",
       "      <th>Training Evaluation Score</th>\n",
       "      <th>Min. Training Pass Eval. Score</th>\n",
       "    </tr>\n",
       "  </thead>\n",
       "  <tbody>\n",
       "    <tr>\n",
       "      <th>0</th>\n",
       "      <td>BCGX7377</td>\n",
       "      <td>Male</td>\n",
       "      <td>27</td>\n",
       "      <td>Master’s degree</td>\n",
       "      <td>Business Development</td>\n",
       "      <td>7.92</td>\n",
       "      <td>1</td>\n",
       "      <td>No</td>\n",
       "      <td>9</td>\n",
       "      <td>8</td>\n",
       "      <td>6</td>\n",
       "      <td>No</td>\n",
       "      <td>Yes</td>\n",
       "      <td>98</td>\n",
       "      <td>70</td>\n",
       "    </tr>\n",
       "    <tr>\n",
       "      <th>1</th>\n",
       "      <td>BCGX4795</td>\n",
       "      <td>Male</td>\n",
       "      <td>44</td>\n",
       "      <td>Higher education (Bachelor’s degree)</td>\n",
       "      <td>Engineering</td>\n",
       "      <td>5.94</td>\n",
       "      <td>7</td>\n",
       "      <td>No</td>\n",
       "      <td>8</td>\n",
       "      <td>10</td>\n",
       "      <td>9</td>\n",
       "      <td>No</td>\n",
       "      <td>No</td>\n",
       "      <td>91</td>\n",
       "      <td>70</td>\n",
       "    </tr>\n",
       "    <tr>\n",
       "      <th>2</th>\n",
       "      <td>BCGX4007</td>\n",
       "      <td>Female</td>\n",
       "      <td>21</td>\n",
       "      <td>Higher education (Bachelor’s degree)</td>\n",
       "      <td>Human Resources</td>\n",
       "      <td>9.90</td>\n",
       "      <td>0</td>\n",
       "      <td>No</td>\n",
       "      <td>8</td>\n",
       "      <td>10</td>\n",
       "      <td>10</td>\n",
       "      <td>Yes</td>\n",
       "      <td>No</td>\n",
       "      <td>62</td>\n",
       "      <td>70</td>\n",
       "    </tr>\n",
       "    <tr>\n",
       "      <th>3</th>\n",
       "      <td>BCGX9524</td>\n",
       "      <td>Male</td>\n",
       "      <td>47</td>\n",
       "      <td>Higher education (Bachelor’s degree)</td>\n",
       "      <td>Business Development</td>\n",
       "      <td>9.90</td>\n",
       "      <td>5</td>\n",
       "      <td>No</td>\n",
       "      <td>7</td>\n",
       "      <td>9</td>\n",
       "      <td>8</td>\n",
       "      <td>Yes</td>\n",
       "      <td>No</td>\n",
       "      <td>77</td>\n",
       "      <td>70</td>\n",
       "    </tr>\n",
       "    <tr>\n",
       "      <th>4</th>\n",
       "      <td>BCGX8426</td>\n",
       "      <td>Female</td>\n",
       "      <td>46</td>\n",
       "      <td>Doctor of Philosophy (Ph.D.)</td>\n",
       "      <td>Product Management</td>\n",
       "      <td>7.92</td>\n",
       "      <td>4</td>\n",
       "      <td>No</td>\n",
       "      <td>9</td>\n",
       "      <td>9</td>\n",
       "      <td>9</td>\n",
       "      <td>No</td>\n",
       "      <td>Yes</td>\n",
       "      <td>85</td>\n",
       "      <td>70</td>\n",
       "    </tr>\n",
       "  </tbody>\n",
       "</table>\n",
       "</div>"
      ],
      "text/plain": [
       "  Employe ID  Gender  Age                             Education  \\\n",
       "0   BCGX7377    Male   27                       Master’s degree   \n",
       "1   BCGX4795    Male   44  Higher education (Bachelor’s degree)   \n",
       "2   BCGX4007  Female   21  Higher education (Bachelor’s degree)   \n",
       "3   BCGX9524    Male   47  Higher education (Bachelor’s degree)   \n",
       "4   BCGX8426  Female   46          Doctor of Philosophy (Ph.D.)   \n",
       "\n",
       "             Department  Performance Rating  Absent Turnover  ESI 1  ESI 2  \\\n",
       "0  Business Development                7.92       1       No      9      8   \n",
       "1           Engineering                5.94       7       No      8     10   \n",
       "2       Human Resources                9.90       0       No      8     10   \n",
       "3  Business Development                9.90       5       No      7      9   \n",
       "4    Product Management                7.92       4       No      9      9   \n",
       "\n",
       "   ESI 3 Promoted This Year Complete the Training Course  \\\n",
       "0      6                 No                          Yes   \n",
       "1      9                 No                           No   \n",
       "2     10                Yes                           No   \n",
       "3      8                Yes                           No   \n",
       "4      9                 No                          Yes   \n",
       "\n",
       "   Training Evaluation Score  Min. Training Pass Eval. Score  \n",
       "0                         98                              70  \n",
       "1                         91                              70  \n",
       "2                         62                              70  \n",
       "3                         77                              70  \n",
       "4                         85                              70  "
      ]
     },
     "execution_count": 20,
     "metadata": {},
     "output_type": "execute_result"
    }
   ],
   "source": [
    "df = pd.read_excel(\"Employee.xlsx\")\n",
    "df.head()"
   ]
  },
  {
   "cell_type": "code",
   "execution_count": 21,
   "metadata": {},
   "outputs": [
    {
     "data": {
      "text/plain": [
       "Employe ID                        0\n",
       "Gender                            0\n",
       "Age                               0\n",
       "Education                         0\n",
       "Department                        0\n",
       "Performance Rating                0\n",
       "Absent                            0\n",
       "Turnover                          0\n",
       "ESI 1                             0\n",
       "ESI 2                             0\n",
       "ESI 3                             0\n",
       "Promoted This Year                0\n",
       "Complete the Training Course      0\n",
       "Training Evaluation Score         0\n",
       "Min. Training Pass Eval. Score    0\n",
       "dtype: int64"
      ]
     },
     "execution_count": 21,
     "metadata": {},
     "output_type": "execute_result"
    }
   ],
   "source": [
    "df.isna().sum()"
   ]
  },
  {
   "cell_type": "code",
   "execution_count": 22,
   "metadata": {},
   "outputs": [
    {
     "data": {
      "text/plain": [
       "0"
      ]
     },
     "execution_count": 22,
     "metadata": {},
     "output_type": "execute_result"
    }
   ],
   "source": [
    "df.duplicated().sum()"
   ]
  },
  {
   "cell_type": "code",
   "execution_count": 23,
   "metadata": {},
   "outputs": [
    {
     "name": "stdout",
     "output_type": "stream",
     "text": [
      "<class 'pandas.core.frame.DataFrame'>\n",
      "RangeIndex: 854 entries, 0 to 853\n",
      "Data columns (total 15 columns):\n",
      " #   Column                          Non-Null Count  Dtype  \n",
      "---  ------                          --------------  -----  \n",
      " 0   Employe ID                      854 non-null    object \n",
      " 1   Gender                          854 non-null    object \n",
      " 2   Age                             854 non-null    int64  \n",
      " 3   Education                       854 non-null    object \n",
      " 4   Department                      854 non-null    object \n",
      " 5   Performance Rating              854 non-null    float64\n",
      " 6   Absent                          854 non-null    int64  \n",
      " 7   Turnover                        854 non-null    object \n",
      " 8   ESI 1                           854 non-null    int64  \n",
      " 9   ESI 2                           854 non-null    int64  \n",
      " 10  ESI 3                           854 non-null    int64  \n",
      " 11  Promoted This Year              854 non-null    object \n",
      " 12  Complete the Training Course    854 non-null    object \n",
      " 13  Training Evaluation Score       854 non-null    int64  \n",
      " 14  Min. Training Pass Eval. Score  854 non-null    int64  \n",
      "dtypes: float64(1), int64(7), object(7)\n",
      "memory usage: 100.2+ KB\n"
     ]
    }
   ],
   "source": [
    "df.info()"
   ]
  },
  {
   "cell_type": "code",
   "execution_count": 24,
   "metadata": {},
   "outputs": [
    {
     "data": {
      "text/plain": [
       "Education\n",
       "Master’s degree                         280\n",
       "Higher education (Bachelor’s degree)    275\n",
       "Doctor of Philosophy (Ph.D.)            108\n",
       "Primary education                       104\n",
       "Secondary education                      87\n",
       "Name: count, dtype: int64"
      ]
     },
     "execution_count": 24,
     "metadata": {},
     "output_type": "execute_result"
    }
   ],
   "source": [
    "df['Education'].value_counts()"
   ]
  },
  {
   "cell_type": "code",
   "execution_count": 25,
   "metadata": {},
   "outputs": [
    {
     "data": {
      "text/plain": [
       "Department\n",
       "Business Development    93\n",
       "Legal                   88\n",
       "Creative                84\n",
       "Sales                   73\n",
       "Data                    72\n",
       "Product Management      70\n",
       "Quality Assurance       68\n",
       "Human Resources         67\n",
       "Engineering             64\n",
       "Operations              64\n",
       "Finance                 57\n",
       "Marketing               54\n",
       "Name: count, dtype: int64"
      ]
     },
     "execution_count": 25,
     "metadata": {},
     "output_type": "execute_result"
    }
   ],
   "source": [
    "df['Department'].value_counts()"
   ]
  },
  {
   "cell_type": "code",
   "execution_count": 26,
   "metadata": {},
   "outputs": [
    {
     "data": {
      "text/plain": [
       "Absent\n",
       "5    166\n",
       "6    162\n",
       "4    135\n",
       "1     90\n",
       "3     88\n",
       "2     79\n",
       "0     77\n",
       "7     57\n",
       "Name: count, dtype: int64"
      ]
     },
     "execution_count": 26,
     "metadata": {},
     "output_type": "execute_result"
    }
   ],
   "source": [
    "df['Absent'].value_counts()"
   ]
  },
  {
   "cell_type": "code",
   "execution_count": 27,
   "metadata": {},
   "outputs": [
    {
     "data": {
      "text/plain": [
       "Turnover\n",
       "No     734\n",
       "Yes    119\n",
       "v        1\n",
       "Name: count, dtype: int64"
      ]
     },
     "execution_count": 27,
     "metadata": {},
     "output_type": "execute_result"
    }
   ],
   "source": [
    "df['Turnover'].value_counts()"
   ]
  },
  {
   "cell_type": "code",
   "execution_count": 30,
   "metadata": {},
   "outputs": [
    {
     "name": "stdout",
     "output_type": "stream",
     "text": [
      "    Employe ID  Gender  Age        Education   Department  Performance Rating  \\\n",
      "670   BCGX5395  Female   49  Master’s degree  Engineering                6.93   \n",
      "\n",
      "     Absent Turnover  ESI 1  ESI 2  ESI 3 Promoted This Year  \\\n",
      "670       5        v      7      6      6                 No   \n",
      "\n",
      "    Complete the Training Course  Training Evaluation Score  \\\n",
      "670                          Yes                         83   \n",
      "\n",
      "     Min. Training Pass Eval. Score  \n",
      "670                              70  \n"
     ]
    }
   ],
   "source": [
    "print(df[df['Turnover'] == 'v'])"
   ]
  },
  {
   "cell_type": "code",
   "execution_count": null,
   "metadata": {},
   "outputs": [],
   "source": []
  }
 ],
 "metadata": {
  "kernelspec": {
   "display_name": "Python 3",
   "language": "python",
   "name": "python3"
  },
  "language_info": {
   "codemirror_mode": {
    "name": "ipython",
    "version": 3
   },
   "file_extension": ".py",
   "mimetype": "text/x-python",
   "name": "python",
   "nbconvert_exporter": "python",
   "pygments_lexer": "ipython3",
   "version": "3.8.0"
  }
 },
 "nbformat": 4,
 "nbformat_minor": 2
}
