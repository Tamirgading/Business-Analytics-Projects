{
 "cells": [
  {
   "cell_type": "code",
   "execution_count": 450,
   "metadata": {},
   "outputs": [],
   "source": [
    "import pandas as pd\n",
    "import numpy as np"
   ]
  },
  {
   "cell_type": "code",
   "execution_count": 451,
   "metadata": {},
   "outputs": [
    {
     "name": "stderr",
     "output_type": "stream",
     "text": [
      "c:\\Users\\Lenovo\\AppData\\Local\\Programs\\Python\\Python38\\lib\\site-packages\\openpyxl\\worksheet\\_reader.py:329: UserWarning: Unknown extension is not supported and will be removed\n",
      "  warn(msg)\n"
     ]
    },
    {
     "data": {
      "text/html": [
       "<div>\n",
       "<style scoped>\n",
       "    .dataframe tbody tr th:only-of-type {\n",
       "        vertical-align: middle;\n",
       "    }\n",
       "\n",
       "    .dataframe tbody tr th {\n",
       "        vertical-align: top;\n",
       "    }\n",
       "\n",
       "    .dataframe thead th {\n",
       "        text-align: right;\n",
       "    }\n",
       "</style>\n",
       "<table border=\"1\" class=\"dataframe\">\n",
       "  <thead>\n",
       "    <tr style=\"text-align: right;\">\n",
       "      <th></th>\n",
       "      <th>Employe ID</th>\n",
       "      <th>Gender</th>\n",
       "      <th>Age</th>\n",
       "      <th>Education</th>\n",
       "      <th>Department</th>\n",
       "      <th>Performance Rating</th>\n",
       "      <th>Absent</th>\n",
       "      <th>Turnover</th>\n",
       "      <th>ESI 1</th>\n",
       "      <th>ESI 2</th>\n",
       "      <th>ESI 3</th>\n",
       "      <th>Promoted This Year</th>\n",
       "      <th>Complete the Training Course</th>\n",
       "      <th>Training Evaluation Score</th>\n",
       "      <th>Min. Training Pass Eval. Score</th>\n",
       "    </tr>\n",
       "  </thead>\n",
       "  <tbody>\n",
       "    <tr>\n",
       "      <th>0</th>\n",
       "      <td>BCGX7377</td>\n",
       "      <td>Male</td>\n",
       "      <td>27</td>\n",
       "      <td>Master’s degree</td>\n",
       "      <td>Business Development</td>\n",
       "      <td>7.92</td>\n",
       "      <td>1</td>\n",
       "      <td>No</td>\n",
       "      <td>9</td>\n",
       "      <td>8</td>\n",
       "      <td>6</td>\n",
       "      <td>No</td>\n",
       "      <td>Yes</td>\n",
       "      <td>98</td>\n",
       "      <td>70</td>\n",
       "    </tr>\n",
       "    <tr>\n",
       "      <th>1</th>\n",
       "      <td>BCGX4795</td>\n",
       "      <td>Male</td>\n",
       "      <td>44</td>\n",
       "      <td>Higher education (Bachelor’s degree)</td>\n",
       "      <td>Engineering</td>\n",
       "      <td>5.94</td>\n",
       "      <td>7</td>\n",
       "      <td>No</td>\n",
       "      <td>8</td>\n",
       "      <td>10</td>\n",
       "      <td>9</td>\n",
       "      <td>No</td>\n",
       "      <td>No</td>\n",
       "      <td>91</td>\n",
       "      <td>70</td>\n",
       "    </tr>\n",
       "    <tr>\n",
       "      <th>2</th>\n",
       "      <td>BCGX4007</td>\n",
       "      <td>Female</td>\n",
       "      <td>21</td>\n",
       "      <td>Higher education (Bachelor’s degree)</td>\n",
       "      <td>Human Resources</td>\n",
       "      <td>9.90</td>\n",
       "      <td>0</td>\n",
       "      <td>No</td>\n",
       "      <td>8</td>\n",
       "      <td>10</td>\n",
       "      <td>10</td>\n",
       "      <td>Yes</td>\n",
       "      <td>No</td>\n",
       "      <td>62</td>\n",
       "      <td>70</td>\n",
       "    </tr>\n",
       "    <tr>\n",
       "      <th>3</th>\n",
       "      <td>BCGX9524</td>\n",
       "      <td>Male</td>\n",
       "      <td>47</td>\n",
       "      <td>Higher education (Bachelor’s degree)</td>\n",
       "      <td>Business Development</td>\n",
       "      <td>9.90</td>\n",
       "      <td>5</td>\n",
       "      <td>No</td>\n",
       "      <td>7</td>\n",
       "      <td>9</td>\n",
       "      <td>8</td>\n",
       "      <td>Yes</td>\n",
       "      <td>No</td>\n",
       "      <td>77</td>\n",
       "      <td>70</td>\n",
       "    </tr>\n",
       "    <tr>\n",
       "      <th>4</th>\n",
       "      <td>BCGX8426</td>\n",
       "      <td>Female</td>\n",
       "      <td>46</td>\n",
       "      <td>Doctor of Philosophy (Ph.D.)</td>\n",
       "      <td>Product Management</td>\n",
       "      <td>7.92</td>\n",
       "      <td>4</td>\n",
       "      <td>No</td>\n",
       "      <td>9</td>\n",
       "      <td>9</td>\n",
       "      <td>9</td>\n",
       "      <td>No</td>\n",
       "      <td>Yes</td>\n",
       "      <td>85</td>\n",
       "      <td>70</td>\n",
       "    </tr>\n",
       "  </tbody>\n",
       "</table>\n",
       "</div>"
      ],
      "text/plain": [
       "  Employe ID  Gender  Age                             Education  \\\n",
       "0   BCGX7377    Male   27                       Master’s degree   \n",
       "1   BCGX4795    Male   44  Higher education (Bachelor’s degree)   \n",
       "2   BCGX4007  Female   21  Higher education (Bachelor’s degree)   \n",
       "3   BCGX9524    Male   47  Higher education (Bachelor’s degree)   \n",
       "4   BCGX8426  Female   46          Doctor of Philosophy (Ph.D.)   \n",
       "\n",
       "             Department  Performance Rating  Absent Turnover  ESI 1  ESI 2  \\\n",
       "0  Business Development                7.92       1       No      9      8   \n",
       "1           Engineering                5.94       7       No      8     10   \n",
       "2       Human Resources                9.90       0       No      8     10   \n",
       "3  Business Development                9.90       5       No      7      9   \n",
       "4    Product Management                7.92       4       No      9      9   \n",
       "\n",
       "   ESI 3 Promoted This Year Complete the Training Course  \\\n",
       "0      6                 No                          Yes   \n",
       "1      9                 No                           No   \n",
       "2     10                Yes                           No   \n",
       "3      8                Yes                           No   \n",
       "4      9                 No                          Yes   \n",
       "\n",
       "   Training Evaluation Score  Min. Training Pass Eval. Score  \n",
       "0                         98                              70  \n",
       "1                         91                              70  \n",
       "2                         62                              70  \n",
       "3                         77                              70  \n",
       "4                         85                              70  "
      ]
     },
     "execution_count": 451,
     "metadata": {},
     "output_type": "execute_result"
    }
   ],
   "source": [
    "df = pd.read_excel(\"Employee.xlsx\")\n",
    "df.head()"
   ]
  },
  {
   "cell_type": "code",
   "execution_count": 452,
   "metadata": {},
   "outputs": [
    {
     "data": {
      "text/plain": [
       "Employe ID                        0\n",
       "Gender                            0\n",
       "Age                               0\n",
       "Education                         0\n",
       "Department                        0\n",
       "Performance Rating                0\n",
       "Absent                            0\n",
       "Turnover                          0\n",
       "ESI 1                             0\n",
       "ESI 2                             0\n",
       "ESI 3                             0\n",
       "Promoted This Year                0\n",
       "Complete the Training Course      0\n",
       "Training Evaluation Score         0\n",
       "Min. Training Pass Eval. Score    0\n",
       "dtype: int64"
      ]
     },
     "execution_count": 452,
     "metadata": {},
     "output_type": "execute_result"
    }
   ],
   "source": [
    "df.isna().sum()"
   ]
  },
  {
   "cell_type": "code",
   "execution_count": 453,
   "metadata": {},
   "outputs": [
    {
     "data": {
      "text/plain": [
       "0"
      ]
     },
     "execution_count": 453,
     "metadata": {},
     "output_type": "execute_result"
    }
   ],
   "source": [
    "df.duplicated().sum()"
   ]
  },
  {
   "cell_type": "code",
   "execution_count": 454,
   "metadata": {},
   "outputs": [
    {
     "name": "stdout",
     "output_type": "stream",
     "text": [
      "<class 'pandas.core.frame.DataFrame'>\n",
      "RangeIndex: 854 entries, 0 to 853\n",
      "Data columns (total 15 columns):\n",
      " #   Column                          Non-Null Count  Dtype  \n",
      "---  ------                          --------------  -----  \n",
      " 0   Employe ID                      854 non-null    object \n",
      " 1   Gender                          854 non-null    object \n",
      " 2   Age                             854 non-null    int64  \n",
      " 3   Education                       854 non-null    object \n",
      " 4   Department                      854 non-null    object \n",
      " 5   Performance Rating              854 non-null    float64\n",
      " 6   Absent                          854 non-null    int64  \n",
      " 7   Turnover                        854 non-null    object \n",
      " 8   ESI 1                           854 non-null    int64  \n",
      " 9   ESI 2                           854 non-null    int64  \n",
      " 10  ESI 3                           854 non-null    int64  \n",
      " 11  Promoted This Year              854 non-null    object \n",
      " 12  Complete the Training Course    854 non-null    object \n",
      " 13  Training Evaluation Score       854 non-null    int64  \n",
      " 14  Min. Training Pass Eval. Score  854 non-null    int64  \n",
      "dtypes: float64(1), int64(7), object(7)\n",
      "memory usage: 100.2+ KB\n"
     ]
    }
   ],
   "source": [
    "df.info()"
   ]
  },
  {
   "cell_type": "code",
   "execution_count": 455,
   "metadata": {},
   "outputs": [
    {
     "data": {
      "text/plain": [
       "Education\n",
       "Master’s degree                         280\n",
       "Higher education (Bachelor’s degree)    275\n",
       "Doctor of Philosophy (Ph.D.)            108\n",
       "Primary education                       104\n",
       "Secondary education                      87\n",
       "Name: count, dtype: int64"
      ]
     },
     "execution_count": 455,
     "metadata": {},
     "output_type": "execute_result"
    }
   ],
   "source": [
    "df['Education'].value_counts()"
   ]
  },
  {
   "cell_type": "code",
   "execution_count": 456,
   "metadata": {},
   "outputs": [
    {
     "data": {
      "text/plain": [
       "Department\n",
       "Business Development    93\n",
       "Legal                   88\n",
       "Creative                84\n",
       "Sales                   73\n",
       "Data                    72\n",
       "Product Management      70\n",
       "Quality Assurance       68\n",
       "Human Resources         67\n",
       "Engineering             64\n",
       "Operations              64\n",
       "Finance                 57\n",
       "Marketing               54\n",
       "Name: count, dtype: int64"
      ]
     },
     "execution_count": 456,
     "metadata": {},
     "output_type": "execute_result"
    }
   ],
   "source": [
    "df['Department'].value_counts()"
   ]
  },
  {
   "cell_type": "code",
   "execution_count": 457,
   "metadata": {},
   "outputs": [
    {
     "data": {
      "text/plain": [
       "Absent\n",
       "5    166\n",
       "6    162\n",
       "4    135\n",
       "1     90\n",
       "3     88\n",
       "2     79\n",
       "0     77\n",
       "7     57\n",
       "Name: count, dtype: int64"
      ]
     },
     "execution_count": 457,
     "metadata": {},
     "output_type": "execute_result"
    }
   ],
   "source": [
    "df['Absent'].value_counts()"
   ]
  },
  {
   "cell_type": "code",
   "execution_count": 458,
   "metadata": {},
   "outputs": [
    {
     "data": {
      "text/plain": [
       "Turnover\n",
       "No     734\n",
       "Yes    119\n",
       "v        1\n",
       "Name: count, dtype: int64"
      ]
     },
     "execution_count": 458,
     "metadata": {},
     "output_type": "execute_result"
    }
   ],
   "source": [
    "df['Turnover'].value_counts()"
   ]
  },
  {
   "cell_type": "code",
   "execution_count": 459,
   "metadata": {},
   "outputs": [
    {
     "data": {
      "text/plain": [
       "(854, 15)"
      ]
     },
     "execution_count": 459,
     "metadata": {},
     "output_type": "execute_result"
    }
   ],
   "source": [
    "df.shape"
   ]
  },
  {
   "cell_type": "code",
   "execution_count": 460,
   "metadata": {},
   "outputs": [],
   "source": [
    "df = df[df['Turnover'] != 'v']"
   ]
  },
  {
   "cell_type": "code",
   "execution_count": 461,
   "metadata": {},
   "outputs": [
    {
     "data": {
      "text/plain": [
       "Turnover\n",
       "No     734\n",
       "Yes    119\n",
       "Name: count, dtype: int64"
      ]
     },
     "execution_count": 461,
     "metadata": {},
     "output_type": "execute_result"
    }
   ],
   "source": [
    "df['Turnover'].value_counts()"
   ]
  },
  {
   "cell_type": "code",
   "execution_count": 462,
   "metadata": {},
   "outputs": [
    {
     "data": {
      "text/plain": [
       "(853, 15)"
      ]
     },
     "execution_count": 462,
     "metadata": {},
     "output_type": "execute_result"
    }
   ],
   "source": [
    "df.shape"
   ]
  },
  {
   "cell_type": "code",
   "execution_count": 463,
   "metadata": {},
   "outputs": [],
   "source": [
    "# Buat kolom 'Active Employee'\n",
    "df['Active Employee'] = np.where(df['Turnover'] == 'No', 1, 0)\n",
    "\n",
    "# Buat kolom 'Turnover Employee'\n",
    "df['Turnover Employee'] = np.where(df['Turnover'] == 'Yes', 1, 0)"
   ]
  },
  {
   "cell_type": "code",
   "execution_count": 464,
   "metadata": {},
   "outputs": [],
   "source": [
    "df['Promoted This Year'] = df['Promoted This Year'].map({'No': 0, 'Yes': 1})"
   ]
  },
  {
   "cell_type": "code",
   "execution_count": 465,
   "metadata": {},
   "outputs": [],
   "source": [
    "df['Complete the Training Course'] = df['Complete the Training Course'].map({'No': 0, 'Yes': 1})"
   ]
  },
  {
   "cell_type": "code",
   "execution_count": 466,
   "metadata": {},
   "outputs": [],
   "source": [
    "df.to_excel('clean_Employee2.xlsx', index=False)"
   ]
  },
  {
   "cell_type": "code",
   "execution_count": 467,
   "metadata": {},
   "outputs": [
    {
     "data": {
      "text/plain": [
       "498"
      ]
     },
     "execution_count": 467,
     "metadata": {},
     "output_type": "execute_result"
    }
   ],
   "source": [
    "df['Complete the Training Course'].sum()"
   ]
  },
  {
   "cell_type": "code",
   "execution_count": 468,
   "metadata": {},
   "outputs": [],
   "source": [
    "df['Gender'] = df['Gender'].map({'Male': 1, 'Female': 0})\n",
    "\n"
   ]
  },
  {
   "cell_type": "code",
   "execution_count": 469,
   "metadata": {},
   "outputs": [],
   "source": [
    "# Menggunakan one-hot encoding\n",
    "df_encoded = pd.get_dummies(df['Department'], prefix='Department')\n",
    "\n",
    "# Menyisipkan kolom yang sudah di-encode ke dalam DataFrame utama\n",
    "df = pd.concat([df, df_encoded], axis=1)"
   ]
  },
  {
   "cell_type": "code",
   "execution_count": 470,
   "metadata": {},
   "outputs": [
    {
     "name": "stdout",
     "output_type": "stream",
     "text": [
      "Index(['Employe ID', 'Gender', 'Age', 'Education', 'Department',\n",
      "       'Performance Rating', 'Absent', 'Turnover', 'ESI 1', 'ESI 2', 'ESI 3',\n",
      "       'Promoted This Year', 'Complete the Training Course',\n",
      "       'Training Evaluation Score', 'Min. Training Pass Eval. Score',\n",
      "       'Active Employee', 'Turnover Employee',\n",
      "       'Department_Business Development', 'Department_Creative',\n",
      "       'Department_Data', 'Department_Engineering', 'Department_Finance',\n",
      "       'Department_Human Resources', 'Department_Legal',\n",
      "       'Department_Marketing', 'Department_Operations',\n",
      "       'Department_Product Management', 'Department_Quality Assurance',\n",
      "       'Department_Sales'],\n",
      "      dtype='object')\n"
     ]
    }
   ],
   "source": [
    "# Menampilkan semua nama kolom dari DataFrame\n",
    "print(df.columns)"
   ]
  },
  {
   "cell_type": "code",
   "execution_count": 471,
   "metadata": {},
   "outputs": [
    {
     "name": "stdout",
     "output_type": "stream",
     "text": [
      "['Master’s degree' 'Higher education (Bachelor’s degree)'\n",
      " 'Doctor of Philosophy (Ph.D.)' 'Secondary education' 'Primary education']\n"
     ]
    }
   ],
   "source": [
    "print(df['Education'].unique())"
   ]
  },
  {
   "cell_type": "code",
   "execution_count": 472,
   "metadata": {},
   "outputs": [
    {
     "name": "stdout",
     "output_type": "stream",
     "text": [
      "object\n"
     ]
    }
   ],
   "source": [
    "print(df['Education'].dtype)"
   ]
  },
  {
   "cell_type": "code",
   "execution_count": 473,
   "metadata": {},
   "outputs": [],
   "source": [
    "df['Education'] = df['Education'].str.strip()\n",
    "# Definisikan urutan kategori\n",
    "education_order = {\n",
    "    'Primary education': 1,\n",
    "    'Secondary education': 2,\n",
    "    'Higher education (Bachelor’s degree)': 3,\n",
    "    'Master’s degree': 4,\n",
    "    'Doctor of Philosophy (Ph.D.)': 5\n",
    "}\n",
    "\n",
    "# Ganti kategori dengan nilai ordinal\n",
    "df['Education_Ordinal'] = df['Education'].map(education_order)\n"
   ]
  },
  {
   "cell_type": "code",
   "execution_count": 474,
   "metadata": {},
   "outputs": [
    {
     "name": "stdout",
     "output_type": "stream",
     "text": [
      "Unmapped values: []\n"
     ]
    }
   ],
   "source": [
    "unmapped_values = df[df['Education_Ordinal'].isna()]['Education'].unique()\n",
    "print(\"Unmapped values:\", unmapped_values)\n"
   ]
  },
  {
   "cell_type": "code",
   "execution_count": 475,
   "metadata": {},
   "outputs": [
    {
     "name": "stdout",
     "output_type": "stream",
     "text": [
      "                              Education  Education_Ordinal\n",
      "0                       Master’s degree                  4\n",
      "1  Higher education (Bachelor’s degree)                  3\n",
      "2  Higher education (Bachelor’s degree)                  3\n",
      "3  Higher education (Bachelor’s degree)                  3\n",
      "4          Doctor of Philosophy (Ph.D.)                  5\n"
     ]
    }
   ],
   "source": [
    "print(df[['Education', 'Education_Ordinal']].head())\n"
   ]
  },
  {
   "cell_type": "code",
   "execution_count": 476,
   "metadata": {},
   "outputs": [],
   "source": [
    "df['Employee Satisfaction'] = (((df['ESI 1']+df['ESI 2']+df['ESI 3']/3)-1)/9)*100"
   ]
  },
  {
   "cell_type": "code",
   "execution_count": 477,
   "metadata": {},
   "outputs": [
    {
     "name": "stdout",
     "output_type": "stream",
     "text": [
      "Index(['Employe ID', 'Gender', 'Age', 'Education', 'Department',\n",
      "       'Performance Rating', 'Absent', 'Turnover', 'ESI 1', 'ESI 2', 'ESI 3',\n",
      "       'Promoted This Year', 'Complete the Training Course',\n",
      "       'Training Evaluation Score', 'Min. Training Pass Eval. Score',\n",
      "       'Active Employee', 'Turnover Employee',\n",
      "       'Department_Business Development', 'Department_Creative',\n",
      "       'Department_Data', 'Department_Engineering', 'Department_Finance',\n",
      "       'Department_Human Resources', 'Department_Legal',\n",
      "       'Department_Marketing', 'Department_Operations',\n",
      "       'Department_Product Management', 'Department_Quality Assurance',\n",
      "       'Department_Sales', 'Education_Ordinal', 'Employee Satisfaction'],\n",
      "      dtype='object')\n"
     ]
    }
   ],
   "source": [
    "print(df.columns)"
   ]
  },
  {
   "cell_type": "code",
   "execution_count": 478,
   "metadata": {},
   "outputs": [],
   "source": [
    "# Menghapus kolom Employee ID, Department, dan Turnover dari DataFrame\n",
    "df.drop(columns=['Employe ID', 'Education', 'Department', 'ESI 1', 'ESI 2', 'ESI 3'], inplace=True)"
   ]
  },
  {
   "cell_type": "code",
   "execution_count": 479,
   "metadata": {},
   "outputs": [
    {
     "name": "stdout",
     "output_type": "stream",
     "text": [
      "Index(['Gender', 'Age', 'Performance Rating', 'Absent', 'Turnover',\n",
      "       'Promoted This Year', 'Complete the Training Course',\n",
      "       'Training Evaluation Score', 'Min. Training Pass Eval. Score',\n",
      "       'Active Employee', 'Turnover Employee',\n",
      "       'Department_Business Development', 'Department_Creative',\n",
      "       'Department_Data', 'Department_Engineering', 'Department_Finance',\n",
      "       'Department_Human Resources', 'Department_Legal',\n",
      "       'Department_Marketing', 'Department_Operations',\n",
      "       'Department_Product Management', 'Department_Quality Assurance',\n",
      "       'Department_Sales', 'Education_Ordinal', 'Employee Satisfaction'],\n",
      "      dtype='object')\n"
     ]
    }
   ],
   "source": [
    "print(df.columns)"
   ]
  },
  {
   "cell_type": "code",
   "execution_count": 480,
   "metadata": {},
   "outputs": [
    {
     "data": {
      "text/html": [
       "<div>\n",
       "<style scoped>\n",
       "    .dataframe tbody tr th:only-of-type {\n",
       "        vertical-align: middle;\n",
       "    }\n",
       "\n",
       "    .dataframe tbody tr th {\n",
       "        vertical-align: top;\n",
       "    }\n",
       "\n",
       "    .dataframe thead th {\n",
       "        text-align: right;\n",
       "    }\n",
       "</style>\n",
       "<table border=\"1\" class=\"dataframe\">\n",
       "  <thead>\n",
       "    <tr style=\"text-align: right;\">\n",
       "      <th></th>\n",
       "      <th>Gender</th>\n",
       "      <th>Age</th>\n",
       "      <th>Performance Rating</th>\n",
       "      <th>Absent</th>\n",
       "      <th>Turnover</th>\n",
       "      <th>Promoted This Year</th>\n",
       "      <th>Complete the Training Course</th>\n",
       "      <th>Training Evaluation Score</th>\n",
       "      <th>Min. Training Pass Eval. Score</th>\n",
       "      <th>Active Employee</th>\n",
       "      <th>...</th>\n",
       "      <th>Department_Finance</th>\n",
       "      <th>Department_Human Resources</th>\n",
       "      <th>Department_Legal</th>\n",
       "      <th>Department_Marketing</th>\n",
       "      <th>Department_Operations</th>\n",
       "      <th>Department_Product Management</th>\n",
       "      <th>Department_Quality Assurance</th>\n",
       "      <th>Department_Sales</th>\n",
       "      <th>Education_Ordinal</th>\n",
       "      <th>Employee Satisfaction</th>\n",
       "    </tr>\n",
       "  </thead>\n",
       "  <tbody>\n",
       "    <tr>\n",
       "      <th>0</th>\n",
       "      <td>1</td>\n",
       "      <td>27</td>\n",
       "      <td>7.92</td>\n",
       "      <td>1</td>\n",
       "      <td>No</td>\n",
       "      <td>0</td>\n",
       "      <td>1</td>\n",
       "      <td>98</td>\n",
       "      <td>70</td>\n",
       "      <td>1</td>\n",
       "      <td>...</td>\n",
       "      <td>False</td>\n",
       "      <td>False</td>\n",
       "      <td>False</td>\n",
       "      <td>False</td>\n",
       "      <td>False</td>\n",
       "      <td>False</td>\n",
       "      <td>False</td>\n",
       "      <td>False</td>\n",
       "      <td>4</td>\n",
       "      <td>200.000000</td>\n",
       "    </tr>\n",
       "    <tr>\n",
       "      <th>1</th>\n",
       "      <td>1</td>\n",
       "      <td>44</td>\n",
       "      <td>5.94</td>\n",
       "      <td>7</td>\n",
       "      <td>No</td>\n",
       "      <td>0</td>\n",
       "      <td>0</td>\n",
       "      <td>91</td>\n",
       "      <td>70</td>\n",
       "      <td>1</td>\n",
       "      <td>...</td>\n",
       "      <td>False</td>\n",
       "      <td>False</td>\n",
       "      <td>False</td>\n",
       "      <td>False</td>\n",
       "      <td>False</td>\n",
       "      <td>False</td>\n",
       "      <td>False</td>\n",
       "      <td>False</td>\n",
       "      <td>3</td>\n",
       "      <td>222.222222</td>\n",
       "    </tr>\n",
       "    <tr>\n",
       "      <th>2</th>\n",
       "      <td>0</td>\n",
       "      <td>21</td>\n",
       "      <td>9.90</td>\n",
       "      <td>0</td>\n",
       "      <td>No</td>\n",
       "      <td>1</td>\n",
       "      <td>0</td>\n",
       "      <td>62</td>\n",
       "      <td>70</td>\n",
       "      <td>1</td>\n",
       "      <td>...</td>\n",
       "      <td>False</td>\n",
       "      <td>True</td>\n",
       "      <td>False</td>\n",
       "      <td>False</td>\n",
       "      <td>False</td>\n",
       "      <td>False</td>\n",
       "      <td>False</td>\n",
       "      <td>False</td>\n",
       "      <td>3</td>\n",
       "      <td>225.925926</td>\n",
       "    </tr>\n",
       "    <tr>\n",
       "      <th>3</th>\n",
       "      <td>1</td>\n",
       "      <td>47</td>\n",
       "      <td>9.90</td>\n",
       "      <td>5</td>\n",
       "      <td>No</td>\n",
       "      <td>1</td>\n",
       "      <td>0</td>\n",
       "      <td>77</td>\n",
       "      <td>70</td>\n",
       "      <td>1</td>\n",
       "      <td>...</td>\n",
       "      <td>False</td>\n",
       "      <td>False</td>\n",
       "      <td>False</td>\n",
       "      <td>False</td>\n",
       "      <td>False</td>\n",
       "      <td>False</td>\n",
       "      <td>False</td>\n",
       "      <td>False</td>\n",
       "      <td>3</td>\n",
       "      <td>196.296296</td>\n",
       "    </tr>\n",
       "    <tr>\n",
       "      <th>4</th>\n",
       "      <td>0</td>\n",
       "      <td>46</td>\n",
       "      <td>7.92</td>\n",
       "      <td>4</td>\n",
       "      <td>No</td>\n",
       "      <td>0</td>\n",
       "      <td>1</td>\n",
       "      <td>85</td>\n",
       "      <td>70</td>\n",
       "      <td>1</td>\n",
       "      <td>...</td>\n",
       "      <td>False</td>\n",
       "      <td>False</td>\n",
       "      <td>False</td>\n",
       "      <td>False</td>\n",
       "      <td>False</td>\n",
       "      <td>True</td>\n",
       "      <td>False</td>\n",
       "      <td>False</td>\n",
       "      <td>5</td>\n",
       "      <td>222.222222</td>\n",
       "    </tr>\n",
       "  </tbody>\n",
       "</table>\n",
       "<p>5 rows × 25 columns</p>\n",
       "</div>"
      ],
      "text/plain": [
       "   Gender  Age  Performance Rating  Absent Turnover  Promoted This Year  \\\n",
       "0       1   27                7.92       1       No                   0   \n",
       "1       1   44                5.94       7       No                   0   \n",
       "2       0   21                9.90       0       No                   1   \n",
       "3       1   47                9.90       5       No                   1   \n",
       "4       0   46                7.92       4       No                   0   \n",
       "\n",
       "   Complete the Training Course  Training Evaluation Score  \\\n",
       "0                             1                         98   \n",
       "1                             0                         91   \n",
       "2                             0                         62   \n",
       "3                             0                         77   \n",
       "4                             1                         85   \n",
       "\n",
       "   Min. Training Pass Eval. Score  Active Employee  ...  Department_Finance  \\\n",
       "0                              70                1  ...               False   \n",
       "1                              70                1  ...               False   \n",
       "2                              70                1  ...               False   \n",
       "3                              70                1  ...               False   \n",
       "4                              70                1  ...               False   \n",
       "\n",
       "   Department_Human Resources  Department_Legal  Department_Marketing  \\\n",
       "0                       False             False                 False   \n",
       "1                       False             False                 False   \n",
       "2                        True             False                 False   \n",
       "3                       False             False                 False   \n",
       "4                       False             False                 False   \n",
       "\n",
       "   Department_Operations  Department_Product Management  \\\n",
       "0                  False                          False   \n",
       "1                  False                          False   \n",
       "2                  False                          False   \n",
       "3                  False                          False   \n",
       "4                  False                           True   \n",
       "\n",
       "   Department_Quality Assurance  Department_Sales  Education_Ordinal  \\\n",
       "0                         False             False                  4   \n",
       "1                         False             False                  3   \n",
       "2                         False             False                  3   \n",
       "3                         False             False                  3   \n",
       "4                         False             False                  5   \n",
       "\n",
       "   Employee Satisfaction  \n",
       "0             200.000000  \n",
       "1             222.222222  \n",
       "2             225.925926  \n",
       "3             196.296296  \n",
       "4             222.222222  \n",
       "\n",
       "[5 rows x 25 columns]"
      ]
     },
     "execution_count": 480,
     "metadata": {},
     "output_type": "execute_result"
    }
   ],
   "source": [
    "df.head()"
   ]
  },
  {
   "cell_type": "code",
   "execution_count": 481,
   "metadata": {},
   "outputs": [
    {
     "data": {
      "text/plain": [
       "(853, 25)"
      ]
     },
     "execution_count": 481,
     "metadata": {},
     "output_type": "execute_result"
    }
   ],
   "source": [
    "df. shape"
   ]
  },
  {
   "cell_type": "code",
   "execution_count": 482,
   "metadata": {},
   "outputs": [
    {
     "name": "stdout",
     "output_type": "stream",
     "text": [
      "Gender                             0\n",
      "Age                                0\n",
      "Performance Rating                 0\n",
      "Absent                             0\n",
      "Turnover                           0\n",
      "Promoted This Year                 0\n",
      "Complete the Training Course       0\n",
      "Training Evaluation Score          0\n",
      "Min. Training Pass Eval. Score     0\n",
      "Active Employee                    0\n",
      "Turnover Employee                  0\n",
      "Department_Business Development    0\n",
      "Department_Creative                0\n",
      "Department_Data                    0\n",
      "Department_Engineering             0\n",
      "Department_Finance                 0\n",
      "Department_Human Resources         0\n",
      "Department_Legal                   0\n",
      "Department_Marketing               0\n",
      "Department_Operations              0\n",
      "Department_Product Management      0\n",
      "Department_Quality Assurance       0\n",
      "Department_Sales                   0\n",
      "Education_Ordinal                  0\n",
      "Employee Satisfaction              0\n",
      "dtype: int64\n"
     ]
    }
   ],
   "source": [
    "print(df.isna().sum())"
   ]
  },
  {
   "cell_type": "code",
   "execution_count": 483,
   "metadata": {},
   "outputs": [],
   "source": [
    "df['Turnover'] = df['Turnover'].str.strip()"
   ]
  },
  {
   "cell_type": "code",
   "execution_count": 484,
   "metadata": {},
   "outputs": [],
   "source": [
    "df['Turnover'] = df['Turnover'].map({'No': 0, 'Yes': 1})"
   ]
  },
  {
   "cell_type": "code",
   "execution_count": 485,
   "metadata": {},
   "outputs": [
    {
     "data": {
      "text/plain": [
       "0    0\n",
       "1    0\n",
       "2    0\n",
       "3    0\n",
       "4    0\n",
       "Name: Turnover, dtype: int64"
      ]
     },
     "execution_count": 485,
     "metadata": {},
     "output_type": "execute_result"
    }
   ],
   "source": [
    "df['Turnover'].head()"
   ]
  },
  {
   "cell_type": "code",
   "execution_count": 486,
   "metadata": {},
   "outputs": [
    {
     "name": "stdout",
     "output_type": "stream",
     "text": [
      "Gender                             0\n",
      "Age                                0\n",
      "Performance Rating                 0\n",
      "Absent                             0\n",
      "Turnover                           0\n",
      "Promoted This Year                 0\n",
      "Complete the Training Course       0\n",
      "Training Evaluation Score          0\n",
      "Min. Training Pass Eval. Score     0\n",
      "Active Employee                    0\n",
      "Turnover Employee                  0\n",
      "Department_Business Development    0\n",
      "Department_Creative                0\n",
      "Department_Data                    0\n",
      "Department_Engineering             0\n",
      "Department_Finance                 0\n",
      "Department_Human Resources         0\n",
      "Department_Legal                   0\n",
      "Department_Marketing               0\n",
      "Department_Operations              0\n",
      "Department_Product Management      0\n",
      "Department_Quality Assurance       0\n",
      "Department_Sales                   0\n",
      "Education_Ordinal                  0\n",
      "Employee Satisfaction              0\n",
      "dtype: int64\n"
     ]
    }
   ],
   "source": [
    "print(df.isna().sum())"
   ]
  },
  {
   "cell_type": "code",
   "execution_count": 488,
   "metadata": {},
   "outputs": [],
   "source": [
    "import os\n",
    "os.environ[\"LOKY_MAX_CPU_COUNT\"] = \"4\"  # Ganti dengan jumlah core yang ingin Anda gunakan"
   ]
  },
  {
   "cell_type": "code",
   "execution_count": 489,
   "metadata": {},
   "outputs": [
    {
     "name": "stdout",
     "output_type": "stream",
     "text": [
      "                    Model  Accuracy  Precision (No)  Recall (No)   F1 (No)  \\\n",
      "0           Random Forest  1.000000        1.000000          1.0  1.000000   \n",
      "1     Logistic Regression  1.000000        1.000000          1.0  1.000000   \n",
      "2           Decision Tree  1.000000        1.000000          1.0  1.000000   \n",
      "3  Support Vector Machine  1.000000        1.000000          1.0  1.000000   \n",
      "4     K-Nearest Neighbors  0.992188        0.991071          1.0  0.995516   \n",
      "\n",
      "   Precision (Yes)  Recall (Yes)  F1 (Yes)  \n",
      "0              1.0      1.000000  1.000000  \n",
      "1              1.0      1.000000  1.000000  \n",
      "2              1.0      1.000000  1.000000  \n",
      "3              1.0      1.000000  1.000000  \n",
      "4              1.0      0.941176  0.969697  \n"
     ]
    }
   ],
   "source": [
    "import pandas as pd\n",
    "from sklearn.preprocessing import MinMaxScaler\n",
    "from sklearn.model_selection import train_test_split\n",
    "from sklearn.ensemble import RandomForestClassifier\n",
    "from sklearn.linear_model import LogisticRegression\n",
    "from sklearn.tree import DecisionTreeClassifier\n",
    "from sklearn.svm import SVC\n",
    "from sklearn.neighbors import KNeighborsClassifier\n",
    "from sklearn.metrics import classification_report\n",
    "\n",
    "# Memisahkan fitur dan label\n",
    "X = df.drop(columns=['Turnover'])\n",
    "y = df['Turnover']\n",
    "\n",
    "# Membagi data menjadi set pelatihan dan set pengujian\n",
    "X_train, X_test, y_train, y_test = train_test_split(X, y, test_size=0.3, random_state=42)\n",
    "\n",
    "# Menstandarisasi fitur menggunakan Min-Max Scaling\n",
    "scaler = MinMaxScaler()\n",
    "X_train_scaled = scaler.fit_transform(X_train)  # Fit dan transform pada data pelatihan\n",
    "X_test_scaled = scaler.transform(X_test)        # Transform data pengujian dengan scaler yang sama\n",
    "\n",
    "# Inisialisasi beberapa model\n",
    "models = {\n",
    "    'Random Forest': RandomForestClassifier(random_state=42),\n",
    "    'Logistic Regression': LogisticRegression(random_state=42),\n",
    "    'Decision Tree': DecisionTreeClassifier(random_state=42),\n",
    "    'Support Vector Machine': SVC(random_state=42),\n",
    "    'K-Nearest Neighbors': KNeighborsClassifier()\n",
    "}\n",
    "# DataFrame untuk menyimpan hasil evaluasi\n",
    "results = pd.DataFrame(columns=['Model', 'Accuracy', 'Precision (No)', 'Recall (No)', 'F1 (No)', \n",
    "                                'Precision (Yes)', 'Recall (Yes)', 'F1 (Yes)'])\n",
    "\n",
    "# Melatih model dan menampilkan hasil evaluasi\n",
    "for name, model in models.items():\n",
    "    model.fit(X_train_scaled, y_train)\n",
    "    y_pred = model.predict(X_test_scaled)\n",
    "    report = classification_report(y_test, y_pred, output_dict=True)\n",
    "    \n",
    "    # Menyimpan hasil ke dalam DataFrame\n",
    "    results = results._append({\n",
    "        'Model': name,\n",
    "        'Accuracy': report['accuracy'],\n",
    "        'Precision (No)': report['0']['precision'],\n",
    "        'Recall (No)': report['0']['recall'],\n",
    "        'F1 (No)': report['0']['f1-score'],\n",
    "        'Precision (Yes)': report['1']['precision'],\n",
    "        'Recall (Yes)': report['1']['recall'],\n",
    "        'F1 (Yes)': report['1']['f1-score']\n",
    "    }, ignore_index=True)\n",
    "\n",
    "print(results)\n"
   ]
  },
  {
   "cell_type": "code",
   "execution_count": 490,
   "metadata": {},
   "outputs": [
    {
     "data": {
      "text/html": [
       "<div>\n",
       "<style scoped>\n",
       "    .dataframe tbody tr th:only-of-type {\n",
       "        vertical-align: middle;\n",
       "    }\n",
       "\n",
       "    .dataframe tbody tr th {\n",
       "        vertical-align: top;\n",
       "    }\n",
       "\n",
       "    .dataframe thead th {\n",
       "        text-align: right;\n",
       "    }\n",
       "</style>\n",
       "<table border=\"1\" class=\"dataframe\">\n",
       "  <thead>\n",
       "    <tr style=\"text-align: right;\">\n",
       "      <th></th>\n",
       "      <th>Model</th>\n",
       "      <th>Accuracy</th>\n",
       "      <th>Precision (No)</th>\n",
       "      <th>Recall (No)</th>\n",
       "      <th>F1 (No)</th>\n",
       "      <th>Precision (Yes)</th>\n",
       "      <th>Recall (Yes)</th>\n",
       "      <th>F1 (Yes)</th>\n",
       "    </tr>\n",
       "  </thead>\n",
       "  <tbody>\n",
       "    <tr>\n",
       "      <th>0</th>\n",
       "      <td>Random Forest</td>\n",
       "      <td>1.000000</td>\n",
       "      <td>1.000000</td>\n",
       "      <td>1.0</td>\n",
       "      <td>1.000000</td>\n",
       "      <td>1.0</td>\n",
       "      <td>1.000000</td>\n",
       "      <td>1.000000</td>\n",
       "    </tr>\n",
       "    <tr>\n",
       "      <th>1</th>\n",
       "      <td>Logistic Regression</td>\n",
       "      <td>1.000000</td>\n",
       "      <td>1.000000</td>\n",
       "      <td>1.0</td>\n",
       "      <td>1.000000</td>\n",
       "      <td>1.0</td>\n",
       "      <td>1.000000</td>\n",
       "      <td>1.000000</td>\n",
       "    </tr>\n",
       "    <tr>\n",
       "      <th>2</th>\n",
       "      <td>Decision Tree</td>\n",
       "      <td>1.000000</td>\n",
       "      <td>1.000000</td>\n",
       "      <td>1.0</td>\n",
       "      <td>1.000000</td>\n",
       "      <td>1.0</td>\n",
       "      <td>1.000000</td>\n",
       "      <td>1.000000</td>\n",
       "    </tr>\n",
       "    <tr>\n",
       "      <th>3</th>\n",
       "      <td>Support Vector Machine</td>\n",
       "      <td>1.000000</td>\n",
       "      <td>1.000000</td>\n",
       "      <td>1.0</td>\n",
       "      <td>1.000000</td>\n",
       "      <td>1.0</td>\n",
       "      <td>1.000000</td>\n",
       "      <td>1.000000</td>\n",
       "    </tr>\n",
       "    <tr>\n",
       "      <th>4</th>\n",
       "      <td>K-Nearest Neighbors</td>\n",
       "      <td>0.992188</td>\n",
       "      <td>0.991071</td>\n",
       "      <td>1.0</td>\n",
       "      <td>0.995516</td>\n",
       "      <td>1.0</td>\n",
       "      <td>0.941176</td>\n",
       "      <td>0.969697</td>\n",
       "    </tr>\n",
       "  </tbody>\n",
       "</table>\n",
       "</div>"
      ],
      "text/plain": [
       "                    Model  Accuracy  Precision (No)  Recall (No)   F1 (No)  \\\n",
       "0           Random Forest  1.000000        1.000000          1.0  1.000000   \n",
       "1     Logistic Regression  1.000000        1.000000          1.0  1.000000   \n",
       "2           Decision Tree  1.000000        1.000000          1.0  1.000000   \n",
       "3  Support Vector Machine  1.000000        1.000000          1.0  1.000000   \n",
       "4     K-Nearest Neighbors  0.992188        0.991071          1.0  0.995516   \n",
       "\n",
       "   Precision (Yes)  Recall (Yes)  F1 (Yes)  \n",
       "0              1.0      1.000000  1.000000  \n",
       "1              1.0      1.000000  1.000000  \n",
       "2              1.0      1.000000  1.000000  \n",
       "3              1.0      1.000000  1.000000  \n",
       "4              1.0      0.941176  0.969697  "
      ]
     },
     "execution_count": 490,
     "metadata": {},
     "output_type": "execute_result"
    }
   ],
   "source": [
    "results"
   ]
  },
  {
   "cell_type": "code",
   "execution_count": null,
   "metadata": {},
   "outputs": [],
   "source": []
  }
 ],
 "metadata": {
  "kernelspec": {
   "display_name": "Python 3",
   "language": "python",
   "name": "python3"
  },
  "language_info": {
   "codemirror_mode": {
    "name": "ipython",
    "version": 3
   },
   "file_extension": ".py",
   "mimetype": "text/x-python",
   "name": "python",
   "nbconvert_exporter": "python",
   "pygments_lexer": "ipython3",
   "version": "3.8.0"
  }
 },
 "nbformat": 4,
 "nbformat_minor": 2
}
