{
 "cells": [
  {
   "cell_type": "code",
   "execution_count": 1021,
   "metadata": {},
   "outputs": [],
   "source": [
    "import pandas as pd\n",
    "import numpy as np"
   ]
  },
  {
   "cell_type": "code",
   "execution_count": 1022,
   "metadata": {},
   "outputs": [
    {
     "name": "stderr",
     "output_type": "stream",
     "text": [
      "c:\\Users\\Lenovo\\AppData\\Local\\Programs\\Python\\Python38\\lib\\site-packages\\openpyxl\\worksheet\\_reader.py:329: UserWarning: Unknown extension is not supported and will be removed\n",
      "  warn(msg)\n"
     ]
    },
    {
     "data": {
      "text/html": [
       "<div>\n",
       "<style scoped>\n",
       "    .dataframe tbody tr th:only-of-type {\n",
       "        vertical-align: middle;\n",
       "    }\n",
       "\n",
       "    .dataframe tbody tr th {\n",
       "        vertical-align: top;\n",
       "    }\n",
       "\n",
       "    .dataframe thead th {\n",
       "        text-align: right;\n",
       "    }\n",
       "</style>\n",
       "<table border=\"1\" class=\"dataframe\">\n",
       "  <thead>\n",
       "    <tr style=\"text-align: right;\">\n",
       "      <th></th>\n",
       "      <th>Employe ID</th>\n",
       "      <th>Gender</th>\n",
       "      <th>Age</th>\n",
       "      <th>Education</th>\n",
       "      <th>Department</th>\n",
       "      <th>Performance Rating</th>\n",
       "      <th>Absent</th>\n",
       "      <th>Turnover</th>\n",
       "      <th>ESI 1</th>\n",
       "      <th>ESI 2</th>\n",
       "      <th>ESI 3</th>\n",
       "      <th>Promoted This Year</th>\n",
       "      <th>Complete the Training Course</th>\n",
       "      <th>Training Evaluation Score</th>\n",
       "      <th>Min. Training Pass Eval. Score</th>\n",
       "    </tr>\n",
       "  </thead>\n",
       "  <tbody>\n",
       "    <tr>\n",
       "      <th>0</th>\n",
       "      <td>BCGX7377</td>\n",
       "      <td>Male</td>\n",
       "      <td>27</td>\n",
       "      <td>Master’s degree</td>\n",
       "      <td>Business Development</td>\n",
       "      <td>7.92</td>\n",
       "      <td>1</td>\n",
       "      <td>No</td>\n",
       "      <td>9</td>\n",
       "      <td>8</td>\n",
       "      <td>6</td>\n",
       "      <td>No</td>\n",
       "      <td>Yes</td>\n",
       "      <td>98</td>\n",
       "      <td>70</td>\n",
       "    </tr>\n",
       "    <tr>\n",
       "      <th>1</th>\n",
       "      <td>BCGX4795</td>\n",
       "      <td>Male</td>\n",
       "      <td>44</td>\n",
       "      <td>Higher education (Bachelor’s degree)</td>\n",
       "      <td>Engineering</td>\n",
       "      <td>5.94</td>\n",
       "      <td>7</td>\n",
       "      <td>No</td>\n",
       "      <td>8</td>\n",
       "      <td>10</td>\n",
       "      <td>9</td>\n",
       "      <td>No</td>\n",
       "      <td>No</td>\n",
       "      <td>91</td>\n",
       "      <td>70</td>\n",
       "    </tr>\n",
       "    <tr>\n",
       "      <th>2</th>\n",
       "      <td>BCGX4007</td>\n",
       "      <td>Female</td>\n",
       "      <td>21</td>\n",
       "      <td>Higher education (Bachelor’s degree)</td>\n",
       "      <td>Human Resources</td>\n",
       "      <td>9.90</td>\n",
       "      <td>0</td>\n",
       "      <td>No</td>\n",
       "      <td>8</td>\n",
       "      <td>10</td>\n",
       "      <td>10</td>\n",
       "      <td>Yes</td>\n",
       "      <td>No</td>\n",
       "      <td>62</td>\n",
       "      <td>70</td>\n",
       "    </tr>\n",
       "    <tr>\n",
       "      <th>3</th>\n",
       "      <td>BCGX9524</td>\n",
       "      <td>Male</td>\n",
       "      <td>47</td>\n",
       "      <td>Higher education (Bachelor’s degree)</td>\n",
       "      <td>Business Development</td>\n",
       "      <td>9.90</td>\n",
       "      <td>5</td>\n",
       "      <td>No</td>\n",
       "      <td>7</td>\n",
       "      <td>9</td>\n",
       "      <td>8</td>\n",
       "      <td>Yes</td>\n",
       "      <td>No</td>\n",
       "      <td>77</td>\n",
       "      <td>70</td>\n",
       "    </tr>\n",
       "    <tr>\n",
       "      <th>4</th>\n",
       "      <td>BCGX8426</td>\n",
       "      <td>Female</td>\n",
       "      <td>46</td>\n",
       "      <td>Doctor of Philosophy (Ph.D.)</td>\n",
       "      <td>Product Management</td>\n",
       "      <td>7.92</td>\n",
       "      <td>4</td>\n",
       "      <td>No</td>\n",
       "      <td>9</td>\n",
       "      <td>9</td>\n",
       "      <td>9</td>\n",
       "      <td>No</td>\n",
       "      <td>Yes</td>\n",
       "      <td>85</td>\n",
       "      <td>70</td>\n",
       "    </tr>\n",
       "    <tr>\n",
       "      <th>5</th>\n",
       "      <td>BCGX9191</td>\n",
       "      <td>Female</td>\n",
       "      <td>49</td>\n",
       "      <td>Master’s degree</td>\n",
       "      <td>Creative</td>\n",
       "      <td>9.90</td>\n",
       "      <td>1</td>\n",
       "      <td>No</td>\n",
       "      <td>6</td>\n",
       "      <td>10</td>\n",
       "      <td>9</td>\n",
       "      <td>No</td>\n",
       "      <td>Yes</td>\n",
       "      <td>79</td>\n",
       "      <td>70</td>\n",
       "    </tr>\n",
       "    <tr>\n",
       "      <th>6</th>\n",
       "      <td>BCGX4731</td>\n",
       "      <td>Male</td>\n",
       "      <td>27</td>\n",
       "      <td>Secondary education</td>\n",
       "      <td>Creative</td>\n",
       "      <td>9.90</td>\n",
       "      <td>1</td>\n",
       "      <td>No</td>\n",
       "      <td>10</td>\n",
       "      <td>8</td>\n",
       "      <td>6</td>\n",
       "      <td>Yes</td>\n",
       "      <td>Yes</td>\n",
       "      <td>63</td>\n",
       "      <td>70</td>\n",
       "    </tr>\n",
       "    <tr>\n",
       "      <th>7</th>\n",
       "      <td>BCGX3989</td>\n",
       "      <td>Female</td>\n",
       "      <td>27</td>\n",
       "      <td>Master’s degree</td>\n",
       "      <td>Data</td>\n",
       "      <td>6.93</td>\n",
       "      <td>3</td>\n",
       "      <td>Yes</td>\n",
       "      <td>7</td>\n",
       "      <td>6</td>\n",
       "      <td>10</td>\n",
       "      <td>Yes</td>\n",
       "      <td>Yes</td>\n",
       "      <td>60</td>\n",
       "      <td>70</td>\n",
       "    </tr>\n",
       "    <tr>\n",
       "      <th>8</th>\n",
       "      <td>BCGX9816</td>\n",
       "      <td>Female</td>\n",
       "      <td>27</td>\n",
       "      <td>Master’s degree</td>\n",
       "      <td>Quality Assurance</td>\n",
       "      <td>6.93</td>\n",
       "      <td>6</td>\n",
       "      <td>Yes</td>\n",
       "      <td>6</td>\n",
       "      <td>7</td>\n",
       "      <td>8</td>\n",
       "      <td>No</td>\n",
       "      <td>No</td>\n",
       "      <td>63</td>\n",
       "      <td>70</td>\n",
       "    </tr>\n",
       "    <tr>\n",
       "      <th>9</th>\n",
       "      <td>BCGX8856</td>\n",
       "      <td>Female</td>\n",
       "      <td>21</td>\n",
       "      <td>Doctor of Philosophy (Ph.D.)</td>\n",
       "      <td>Business Development</td>\n",
       "      <td>5.31</td>\n",
       "      <td>1</td>\n",
       "      <td>No</td>\n",
       "      <td>6</td>\n",
       "      <td>7</td>\n",
       "      <td>8</td>\n",
       "      <td>Yes</td>\n",
       "      <td>No</td>\n",
       "      <td>61</td>\n",
       "      <td>70</td>\n",
       "    </tr>\n",
       "  </tbody>\n",
       "</table>\n",
       "</div>"
      ],
      "text/plain": [
       "  Employe ID  Gender  Age                             Education  \\\n",
       "0   BCGX7377    Male   27                       Master’s degree   \n",
       "1   BCGX4795    Male   44  Higher education (Bachelor’s degree)   \n",
       "2   BCGX4007  Female   21  Higher education (Bachelor’s degree)   \n",
       "3   BCGX9524    Male   47  Higher education (Bachelor’s degree)   \n",
       "4   BCGX8426  Female   46          Doctor of Philosophy (Ph.D.)   \n",
       "5   BCGX9191  Female   49                       Master’s degree   \n",
       "6   BCGX4731    Male   27                   Secondary education   \n",
       "7   BCGX3989  Female   27                       Master’s degree   \n",
       "8   BCGX9816  Female   27                       Master’s degree   \n",
       "9   BCGX8856  Female   21          Doctor of Philosophy (Ph.D.)   \n",
       "\n",
       "             Department  Performance Rating  Absent Turnover  ESI 1  ESI 2  \\\n",
       "0  Business Development                7.92       1       No      9      8   \n",
       "1           Engineering                5.94       7       No      8     10   \n",
       "2       Human Resources                9.90       0       No      8     10   \n",
       "3  Business Development                9.90       5       No      7      9   \n",
       "4    Product Management                7.92       4       No      9      9   \n",
       "5              Creative                9.90       1       No      6     10   \n",
       "6              Creative                9.90       1       No     10      8   \n",
       "7                  Data                6.93       3      Yes      7      6   \n",
       "8     Quality Assurance                6.93       6      Yes      6      7   \n",
       "9  Business Development                5.31       1       No      6      7   \n",
       "\n",
       "   ESI 3 Promoted This Year Complete the Training Course  \\\n",
       "0      6                 No                          Yes   \n",
       "1      9                 No                           No   \n",
       "2     10                Yes                           No   \n",
       "3      8                Yes                           No   \n",
       "4      9                 No                          Yes   \n",
       "5      9                 No                          Yes   \n",
       "6      6                Yes                          Yes   \n",
       "7     10                Yes                          Yes   \n",
       "8      8                 No                           No   \n",
       "9      8                Yes                           No   \n",
       "\n",
       "   Training Evaluation Score  Min. Training Pass Eval. Score  \n",
       "0                         98                              70  \n",
       "1                         91                              70  \n",
       "2                         62                              70  \n",
       "3                         77                              70  \n",
       "4                         85                              70  \n",
       "5                         79                              70  \n",
       "6                         63                              70  \n",
       "7                         60                              70  \n",
       "8                         63                              70  \n",
       "9                         61                              70  "
      ]
     },
     "execution_count": 1022,
     "metadata": {},
     "output_type": "execute_result"
    }
   ],
   "source": [
    "df = pd.read_excel(\"Employee.xlsx\")\n",
    "df.head(10)"
   ]
  },
  {
   "cell_type": "code",
   "execution_count": 1023,
   "metadata": {},
   "outputs": [
    {
     "data": {
      "text/plain": [
       "Employe ID                        0\n",
       "Gender                            0\n",
       "Age                               0\n",
       "Education                         0\n",
       "Department                        0\n",
       "Performance Rating                0\n",
       "Absent                            0\n",
       "Turnover                          0\n",
       "ESI 1                             0\n",
       "ESI 2                             0\n",
       "ESI 3                             0\n",
       "Promoted This Year                0\n",
       "Complete the Training Course      0\n",
       "Training Evaluation Score         0\n",
       "Min. Training Pass Eval. Score    0\n",
       "dtype: int64"
      ]
     },
     "execution_count": 1023,
     "metadata": {},
     "output_type": "execute_result"
    }
   ],
   "source": [
    "df.isna().sum()"
   ]
  },
  {
   "cell_type": "code",
   "execution_count": 1024,
   "metadata": {},
   "outputs": [
    {
     "data": {
      "text/plain": [
       "0"
      ]
     },
     "execution_count": 1024,
     "metadata": {},
     "output_type": "execute_result"
    }
   ],
   "source": [
    "df.duplicated().sum()"
   ]
  },
  {
   "cell_type": "code",
   "execution_count": 1025,
   "metadata": {},
   "outputs": [
    {
     "name": "stdout",
     "output_type": "stream",
     "text": [
      "<class 'pandas.core.frame.DataFrame'>\n",
      "RangeIndex: 854 entries, 0 to 853\n",
      "Data columns (total 15 columns):\n",
      " #   Column                          Non-Null Count  Dtype  \n",
      "---  ------                          --------------  -----  \n",
      " 0   Employe ID                      854 non-null    object \n",
      " 1   Gender                          854 non-null    object \n",
      " 2   Age                             854 non-null    int64  \n",
      " 3   Education                       854 non-null    object \n",
      " 4   Department                      854 non-null    object \n",
      " 5   Performance Rating              854 non-null    float64\n",
      " 6   Absent                          854 non-null    int64  \n",
      " 7   Turnover                        854 non-null    object \n",
      " 8   ESI 1                           854 non-null    int64  \n",
      " 9   ESI 2                           854 non-null    int64  \n",
      " 10  ESI 3                           854 non-null    int64  \n",
      " 11  Promoted This Year              854 non-null    object \n",
      " 12  Complete the Training Course    854 non-null    object \n",
      " 13  Training Evaluation Score       854 non-null    int64  \n",
      " 14  Min. Training Pass Eval. Score  854 non-null    int64  \n",
      "dtypes: float64(1), int64(7), object(7)\n",
      "memory usage: 100.2+ KB\n"
     ]
    }
   ],
   "source": [
    "df.info()"
   ]
  },
  {
   "cell_type": "code",
   "execution_count": 1026,
   "metadata": {},
   "outputs": [],
   "source": [
    "df['Gender'] = df['Gender'].map({'Male': 1, 'Female': 0})"
   ]
  },
  {
   "cell_type": "code",
   "execution_count": 1027,
   "metadata": {},
   "outputs": [
    {
     "data": {
      "text/plain": [
       "Education\n",
       "Master’s degree                         280\n",
       "Higher education (Bachelor’s degree)    275\n",
       "Doctor of Philosophy (Ph.D.)            108\n",
       "Primary education                       104\n",
       "Secondary education                      87\n",
       "Name: count, dtype: int64"
      ]
     },
     "execution_count": 1027,
     "metadata": {},
     "output_type": "execute_result"
    }
   ],
   "source": [
    "df['Education'].value_counts()"
   ]
  },
  {
   "cell_type": "code",
   "execution_count": 1028,
   "metadata": {},
   "outputs": [],
   "source": [
    "df['Education'] = df['Education'].str.strip()\n",
    "education_order = {\n",
    "    'Primary education': 1,\n",
    "    'Secondary education': 2,\n",
    "    'Higher education (Bachelor’s degree)': 3,\n",
    "    'Master’s degree': 4,\n",
    "    'Doctor of Philosophy (Ph.D.)': 5\n",
    "}\n",
    "\n",
    "df['Education_Ordinal'] = df['Education'].map(education_order)"
   ]
  },
  {
   "cell_type": "code",
   "execution_count": 1029,
   "metadata": {},
   "outputs": [
    {
     "data": {
      "text/plain": [
       "Department\n",
       "Business Development    93\n",
       "Legal                   88\n",
       "Creative                84\n",
       "Sales                   73\n",
       "Data                    72\n",
       "Product Management      70\n",
       "Quality Assurance       68\n",
       "Human Resources         67\n",
       "Engineering             64\n",
       "Operations              64\n",
       "Finance                 57\n",
       "Marketing               54\n",
       "Name: count, dtype: int64"
      ]
     },
     "execution_count": 1029,
     "metadata": {},
     "output_type": "execute_result"
    }
   ],
   "source": [
    "df['Department'].value_counts()"
   ]
  },
  {
   "cell_type": "code",
   "execution_count": 1030,
   "metadata": {},
   "outputs": [],
   "source": [
    "df_encoded = pd.get_dummies(df['Department'], prefix='Department')\n",
    "df = pd.concat([df, df_encoded], axis=1)"
   ]
  },
  {
   "cell_type": "code",
   "execution_count": 1031,
   "metadata": {},
   "outputs": [
    {
     "data": {
      "text/plain": [
       "Turnover\n",
       "No     734\n",
       "Yes    119\n",
       "v        1\n",
       "Name: count, dtype: int64"
      ]
     },
     "execution_count": 1031,
     "metadata": {},
     "output_type": "execute_result"
    }
   ],
   "source": [
    "df['Turnover'].value_counts()"
   ]
  },
  {
   "cell_type": "code",
   "execution_count": 1032,
   "metadata": {},
   "outputs": [],
   "source": [
    "df = df[df['Turnover'] != 'v']"
   ]
  },
  {
   "cell_type": "code",
   "execution_count": 1033,
   "metadata": {},
   "outputs": [],
   "source": [
    "df['Turnover'] = df['Turnover'].str.strip()\n",
    "df['Turnover'] = df['Turnover'].map({'No': 0, 'Yes': 1})"
   ]
  },
  {
   "cell_type": "code",
   "execution_count": 1034,
   "metadata": {},
   "outputs": [
    {
     "data": {
      "text/plain": [
       "Promoted This Year\n",
       "No     474\n",
       "Yes    379\n",
       "Name: count, dtype: int64"
      ]
     },
     "execution_count": 1034,
     "metadata": {},
     "output_type": "execute_result"
    }
   ],
   "source": [
    "df['Promoted This Year'].value_counts()"
   ]
  },
  {
   "cell_type": "code",
   "execution_count": 1035,
   "metadata": {},
   "outputs": [],
   "source": [
    "df['Promoted This Year'] = df['Promoted This Year'].map({'No': 0, 'Yes': 1})"
   ]
  },
  {
   "cell_type": "code",
   "execution_count": 1036,
   "metadata": {},
   "outputs": [],
   "source": [
    "df['Complete the Training Course'] = df['Complete the Training Course'].map({'No': 0, 'Yes': 1})"
   ]
  },
  {
   "cell_type": "code",
   "execution_count": 1037,
   "metadata": {},
   "outputs": [],
   "source": [
    "df['Employee Satisfaction'] = (((df['ESI 1']+df['ESI 2']+df['ESI 3']/3)-1)/9)*100"
   ]
  },
  {
   "cell_type": "code",
   "execution_count": 1038,
   "metadata": {},
   "outputs": [],
   "source": [
    "#df.to_excel('Employee_Final.xlsx', index=False)"
   ]
  },
  {
   "cell_type": "code",
   "execution_count": 1039,
   "metadata": {},
   "outputs": [],
   "source": [
    "df.drop(columns=['Employe ID', 'Education', 'Department', 'ESI 1', 'ESI 2', 'ESI 3'], inplace=True)"
   ]
  },
  {
   "cell_type": "code",
   "execution_count": 1040,
   "metadata": {},
   "outputs": [
    {
     "name": "stdout",
     "output_type": "stream",
     "text": [
      "Index(['Gender', 'Age', 'Performance Rating', 'Absent', 'Turnover',\n",
      "       'Promoted This Year', 'Complete the Training Course',\n",
      "       'Training Evaluation Score', 'Min. Training Pass Eval. Score',\n",
      "       'Education_Ordinal', 'Department_Business Development',\n",
      "       'Department_Creative', 'Department_Data', 'Department_Engineering',\n",
      "       'Department_Finance', 'Department_Human Resources', 'Department_Legal',\n",
      "       'Department_Marketing', 'Department_Operations',\n",
      "       'Department_Product Management', 'Department_Quality Assurance',\n",
      "       'Department_Sales', 'Employee Satisfaction'],\n",
      "      dtype='object')\n"
     ]
    }
   ],
   "source": [
    "print(df.columns)"
   ]
  },
  {
   "cell_type": "code",
   "execution_count": 1041,
   "metadata": {},
   "outputs": [
    {
     "data": {
      "text/plain": [
       "(853, 23)"
      ]
     },
     "execution_count": 1041,
     "metadata": {},
     "output_type": "execute_result"
    }
   ],
   "source": [
    "df.shape"
   ]
  },
  {
   "cell_type": "code",
   "execution_count": null,
   "metadata": {},
   "outputs": [],
   "source": [
    "from sklearn.preprocessing import MinMaxScaler\n",
    "from sklearn.model_selection import train_test_split\n",
    "from sklearn.ensemble import RandomForestClassifier\n",
    "from sklearn.linear_model import LogisticRegression\n",
    "from sklearn.tree import DecisionTreeClassifier\n",
    "from sklearn.svm import SVC\n",
    "from sklearn.neighbors import KNeighborsClassifier\n",
    "from sklearn.metrics import accuracy_score"
   ]
  },
  {
   "cell_type": "code",
   "execution_count": 1042,
   "metadata": {},
   "outputs": [],
   "source": [
    "X = df.drop(columns=['Turnover'])\n",
    "y = df['Turnover']"
   ]
  },
  {
   "cell_type": "code",
   "execution_count": null,
   "metadata": {},
   "outputs": [],
   "source": [
    "X_train, X_test, y_train, y_test = train_test_split(X, y, test_size=0.3, random_state=42, stratify=y)"
   ]
  },
  {
   "cell_type": "code",
   "execution_count": 1043,
   "metadata": {},
   "outputs": [
    {
     "name": "stdout",
     "output_type": "stream",
     "text": [
      "Turnover\n",
      "0    220\n",
      "1     36\n",
      "Name: count, dtype: int64\n"
     ]
    }
   ],
   "source": [
    "print(y_test.value_counts())"
   ]
  },
  {
   "cell_type": "code",
   "execution_count": 1044,
   "metadata": {},
   "outputs": [
    {
     "name": "stdout",
     "output_type": "stream",
     "text": [
      "Turnover\n",
      "0    514\n",
      "1     83\n",
      "Name: count, dtype: int64\n"
     ]
    }
   ],
   "source": [
    "print(y_train.value_counts())"
   ]
  },
  {
   "cell_type": "code",
   "execution_count": null,
   "metadata": {},
   "outputs": [],
   "source": [
    "scaler = MinMaxScaler()\n",
    "X_train_scaled = scaler.fit_transform(X_train)  \n",
    "X_test_scaled = scaler.transform(X_test)   "
   ]
  },
  {
   "cell_type": "code",
   "execution_count": 1045,
   "metadata": {},
   "outputs": [],
   "source": [
    "models = {\n",
    "    'Random Forest': RandomForestClassifier(random_state=42),\n",
    "    'Logistic Regression': LogisticRegression(random_state=42),\n",
    "    'Decision Tree': DecisionTreeClassifier(random_state=42),\n",
    "    'Support Vector Machine': SVC(random_state=42),\n",
    "    'K-Nearest Neighbors': KNeighborsClassifier()\n",
    "}\n",
    "\n",
    "results = pd.DataFrame(columns=['Model', 'Accuracy'])\n",
    "\n",
    "for name, model in models.items():\n",
    "    model.fit(X_train_scaled, y_train)\n",
    "    y_pred = model.predict(X_test_scaled)\n",
    "    accuracy = accuracy_score(y_test, y_pred)\n",
    "    \n",
    "    results = results._append({\n",
    "        'Model': name,\n",
    "        'Accuracy': accuracy\n",
    "    }, ignore_index=True)"
   ]
  },
  {
   "cell_type": "code",
   "execution_count": 1049,
   "metadata": {},
   "outputs": [
    {
     "data": {
      "text/html": [
       "<div>\n",
       "<style scoped>\n",
       "    .dataframe tbody tr th:only-of-type {\n",
       "        vertical-align: middle;\n",
       "    }\n",
       "\n",
       "    .dataframe tbody tr th {\n",
       "        vertical-align: top;\n",
       "    }\n",
       "\n",
       "    .dataframe thead th {\n",
       "        text-align: right;\n",
       "    }\n",
       "</style>\n",
       "<table border=\"1\" class=\"dataframe\">\n",
       "  <thead>\n",
       "    <tr style=\"text-align: right;\">\n",
       "      <th></th>\n",
       "      <th>Model</th>\n",
       "      <th>Accuracy</th>\n",
       "    </tr>\n",
       "  </thead>\n",
       "  <tbody>\n",
       "    <tr>\n",
       "      <th>0</th>\n",
       "      <td>Random Forest</td>\n",
       "      <td>0.863281</td>\n",
       "    </tr>\n",
       "    <tr>\n",
       "      <th>1</th>\n",
       "      <td>Logistic Regression</td>\n",
       "      <td>0.859375</td>\n",
       "    </tr>\n",
       "    <tr>\n",
       "      <th>2</th>\n",
       "      <td>Decision Tree</td>\n",
       "      <td>0.757812</td>\n",
       "    </tr>\n",
       "    <tr>\n",
       "      <th>3</th>\n",
       "      <td>Support Vector Machine</td>\n",
       "      <td>0.859375</td>\n",
       "    </tr>\n",
       "    <tr>\n",
       "      <th>4</th>\n",
       "      <td>K-Nearest Neighbors</td>\n",
       "      <td>0.847656</td>\n",
       "    </tr>\n",
       "  </tbody>\n",
       "</table>\n",
       "</div>"
      ],
      "text/plain": [
       "                    Model  Accuracy\n",
       "0           Random Forest  0.863281\n",
       "1     Logistic Regression  0.859375\n",
       "2           Decision Tree  0.757812\n",
       "3  Support Vector Machine  0.859375\n",
       "4     K-Nearest Neighbors  0.847656"
      ]
     },
     "execution_count": 1049,
     "metadata": {},
     "output_type": "execute_result"
    }
   ],
   "source": [
    "results"
   ]
  },
  {
   "cell_type": "code",
   "execution_count": null,
   "metadata": {},
   "outputs": [],
   "source": []
  }
 ],
 "metadata": {
  "kernelspec": {
   "display_name": "Python 3",
   "language": "python",
   "name": "python3"
  },
  "language_info": {
   "codemirror_mode": {
    "name": "ipython",
    "version": 3
   },
   "file_extension": ".py",
   "mimetype": "text/x-python",
   "name": "python",
   "nbconvert_exporter": "python",
   "pygments_lexer": "ipython3",
   "version": "3.8.0"
  }
 },
 "nbformat": 4,
 "nbformat_minor": 2
}
