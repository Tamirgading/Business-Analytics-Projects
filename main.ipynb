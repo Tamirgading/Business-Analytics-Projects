{
 "cells": [
  {
   "cell_type": "code",
   "execution_count": 1,
   "metadata": {},
   "outputs": [
    {
     "data": {
      "text/html": [
       "<div>\n",
       "<style scoped>\n",
       "    .dataframe tbody tr th:only-of-type {\n",
       "        vertical-align: middle;\n",
       "    }\n",
       "\n",
       "    .dataframe tbody tr th {\n",
       "        vertical-align: top;\n",
       "    }\n",
       "\n",
       "    .dataframe thead th {\n",
       "        text-align: right;\n",
       "    }\n",
       "</style>\n",
       "<table border=\"1\" class=\"dataframe\">\n",
       "  <thead>\n",
       "    <tr style=\"text-align: right;\">\n",
       "      <th></th>\n",
       "      <th>Ad Group</th>\n",
       "      <th>Month</th>\n",
       "      <th>Impressions</th>\n",
       "      <th>Clicks</th>\n",
       "      <th>CTR</th>\n",
       "      <th>Conversions</th>\n",
       "      <th>Conv Rate</th>\n",
       "      <th>Cost</th>\n",
       "      <th>CPC</th>\n",
       "      <th>Revenue</th>\n",
       "      <th>Sale Amount</th>\n",
       "      <th>P&amp;L</th>\n",
       "    </tr>\n",
       "  </thead>\n",
       "  <tbody>\n",
       "    <tr>\n",
       "      <th>75</th>\n",
       "      <td>Shop - Phrase - Desk - Competitor</td>\n",
       "      <td>August</td>\n",
       "      <td>35</td>\n",
       "      <td>3</td>\n",
       "      <td>0.09</td>\n",
       "      <td>0</td>\n",
       "      <td>0.00</td>\n",
       "      <td>1</td>\n",
       "      <td>0.62</td>\n",
       "      <td>0</td>\n",
       "      <td>0.00</td>\n",
       "      <td>-1.000</td>\n",
       "    </tr>\n",
       "    <tr>\n",
       "      <th>149</th>\n",
       "      <td>Shop - Phrase - Desk - Free Shipping</td>\n",
       "      <td>October</td>\n",
       "      <td>72</td>\n",
       "      <td>9</td>\n",
       "      <td>0.13</td>\n",
       "      <td>1</td>\n",
       "      <td>0.14</td>\n",
       "      <td>5</td>\n",
       "      <td>0.57</td>\n",
       "      <td>8</td>\n",
       "      <td>157.97</td>\n",
       "      <td>2.900</td>\n",
       "    </tr>\n",
       "    <tr>\n",
       "      <th>21</th>\n",
       "      <td>Shop - Exact - Mob - Offer</td>\n",
       "      <td>July</td>\n",
       "      <td>1029</td>\n",
       "      <td>256</td>\n",
       "      <td>0.25</td>\n",
       "      <td>24</td>\n",
       "      <td>0.07</td>\n",
       "      <td>212</td>\n",
       "      <td>0.83</td>\n",
       "      <td>208</td>\n",
       "      <td>4425.49</td>\n",
       "      <td>-3.509</td>\n",
       "    </tr>\n",
       "    <tr>\n",
       "      <th>175</th>\n",
       "      <td>Shop - 1:1 - Mob - [shop coupon code]</td>\n",
       "      <td>November</td>\n",
       "      <td>99258</td>\n",
       "      <td>42283</td>\n",
       "      <td>0.43</td>\n",
       "      <td>4349</td>\n",
       "      <td>0.08</td>\n",
       "      <td>24149</td>\n",
       "      <td>0.57</td>\n",
       "      <td>24071</td>\n",
       "      <td>500400.85</td>\n",
       "      <td>-77.730</td>\n",
       "    </tr>\n",
       "    <tr>\n",
       "      <th>115</th>\n",
       "      <td>Shop - 1:1 - Mob - [shop promo code]</td>\n",
       "      <td>October</td>\n",
       "      <td>34929</td>\n",
       "      <td>15595</td>\n",
       "      <td>0.45</td>\n",
       "      <td>2193</td>\n",
       "      <td>0.09</td>\n",
       "      <td>11258</td>\n",
       "      <td>0.72</td>\n",
       "      <td>12025</td>\n",
       "      <td>252296.27</td>\n",
       "      <td>766.859</td>\n",
       "    </tr>\n",
       "  </tbody>\n",
       "</table>\n",
       "</div>"
      ],
      "text/plain": [
       "                                  Ad Group     Month  Impressions  Clicks  \\\n",
       "75       Shop - Phrase - Desk - Competitor    August           35       3   \n",
       "149   Shop - Phrase - Desk - Free Shipping   October           72       9   \n",
       "21              Shop - Exact - Mob - Offer      July         1029     256   \n",
       "175  Shop - 1:1 - Mob - [shop coupon code]  November        99258   42283   \n",
       "115   Shop - 1:1 - Mob - [shop promo code]   October        34929   15595   \n",
       "\n",
       "      CTR  Conversions  Conv Rate   Cost   CPC  Revenue  Sale Amount      P&L  \n",
       "75   0.09            0       0.00      1  0.62        0         0.00   -1.000  \n",
       "149  0.13            1       0.14      5  0.57        8       157.97    2.900  \n",
       "21   0.25           24       0.07    212  0.83      208      4425.49   -3.509  \n",
       "175  0.43         4349       0.08  24149  0.57    24071    500400.85  -77.730  \n",
       "115  0.45         2193       0.09  11258  0.72    12025    252296.27  766.859  "
      ]
     },
     "execution_count": 1,
     "metadata": {},
     "output_type": "execute_result"
    }
   ],
   "source": [
    "import pandas as pd\n",
    "\n",
    "df = pd.read_csv(\"final_shop_6modata.csv\")\n",
    "df.sample(5)"
   ]
  },
  {
   "cell_type": "code",
   "execution_count": 2,
   "metadata": {},
   "outputs": [
    {
     "data": {
      "text/plain": [
       "Ad Group       0\n",
       "Month          0\n",
       "Impressions    0\n",
       "Clicks         0\n",
       "CTR            0\n",
       "Conversions    0\n",
       "Conv Rate      0\n",
       "Cost           0\n",
       "CPC            0\n",
       "Revenue        0\n",
       "Sale Amount    0\n",
       "P&L            0\n",
       "dtype: int64"
      ]
     },
     "execution_count": 2,
     "metadata": {},
     "output_type": "execute_result"
    }
   ],
   "source": [
    "df.isna().sum()"
   ]
  },
  {
   "cell_type": "code",
   "execution_count": 3,
   "metadata": {},
   "outputs": [
    {
     "data": {
      "text/plain": [
       "0"
      ]
     },
     "execution_count": 3,
     "metadata": {},
     "output_type": "execute_result"
    }
   ],
   "source": [
    "df.duplicated().sum()"
   ]
  },
  {
   "cell_type": "code",
   "execution_count": 4,
   "metadata": {},
   "outputs": [
    {
     "name": "stdout",
     "output_type": "stream",
     "text": [
      "<class 'pandas.core.frame.DataFrame'>\n",
      "RangeIndex: 190 entries, 0 to 189\n",
      "Data columns (total 12 columns):\n",
      " #   Column       Non-Null Count  Dtype  \n",
      "---  ------       --------------  -----  \n",
      " 0   Ad Group     190 non-null    object \n",
      " 1   Month        190 non-null    object \n",
      " 2   Impressions  190 non-null    int64  \n",
      " 3   Clicks       190 non-null    int64  \n",
      " 4   CTR          190 non-null    float64\n",
      " 5   Conversions  190 non-null    int64  \n",
      " 6   Conv Rate    190 non-null    float64\n",
      " 7   Cost         190 non-null    int64  \n",
      " 8   CPC          190 non-null    float64\n",
      " 9   Revenue      190 non-null    int64  \n",
      " 10  Sale Amount  190 non-null    float64\n",
      " 11  P&L          190 non-null    float64\n",
      "dtypes: float64(5), int64(5), object(2)\n",
      "memory usage: 17.9+ KB\n"
     ]
    }
   ],
   "source": [
    "df.info()"
   ]
  },
  {
   "cell_type": "code",
   "execution_count": 5,
   "metadata": {},
   "outputs": [
    {
     "data": {
      "text/plain": [
       "Ad Group       string[python]\n",
       "Month                  object\n",
       "Impressions             int64\n",
       "Clicks                  int64\n",
       "CTR                   float64\n",
       "Conversions             int64\n",
       "Conv Rate             float64\n",
       "Cost                    int64\n",
       "CPC                   float64\n",
       "Revenue                 int64\n",
       "Sale Amount           float64\n",
       "P&L                   float64\n",
       "dtype: object"
      ]
     },
     "execution_count": 5,
     "metadata": {},
     "output_type": "execute_result"
    }
   ],
   "source": [
    "df['Ad Group'] = df['Ad Group'].astype('string')\n",
    "df.dtypes"
   ]
  },
  {
   "cell_type": "code",
   "execution_count": 6,
   "metadata": {},
   "outputs": [
    {
     "data": {
      "text/html": [
       "<div>\n",
       "<style scoped>\n",
       "    .dataframe tbody tr th:only-of-type {\n",
       "        vertical-align: middle;\n",
       "    }\n",
       "\n",
       "    .dataframe tbody tr th {\n",
       "        vertical-align: top;\n",
       "    }\n",
       "\n",
       "    .dataframe thead th {\n",
       "        text-align: right;\n",
       "    }\n",
       "</style>\n",
       "<table border=\"1\" class=\"dataframe\">\n",
       "  <thead>\n",
       "    <tr style=\"text-align: right;\">\n",
       "      <th></th>\n",
       "      <th>Ad Group</th>\n",
       "      <th>Type</th>\n",
       "    </tr>\n",
       "  </thead>\n",
       "  <tbody>\n",
       "    <tr>\n",
       "      <th>0</th>\n",
       "      <td>Shop - 1:1 - Desk - [shop coupon code]</td>\n",
       "      <td>Coupon</td>\n",
       "    </tr>\n",
       "    <tr>\n",
       "      <th>1</th>\n",
       "      <td>Shop - 1:1 - Desk - [shop coupon]</td>\n",
       "      <td>Coupon</td>\n",
       "    </tr>\n",
       "    <tr>\n",
       "      <th>2</th>\n",
       "      <td>Shop - 1:1 - Desk - [shop discount code]</td>\n",
       "      <td>Discount</td>\n",
       "    </tr>\n",
       "    <tr>\n",
       "      <th>3</th>\n",
       "      <td>Shop - 1:1 - Desk - [shop promo code]</td>\n",
       "      <td>Promo</td>\n",
       "    </tr>\n",
       "    <tr>\n",
       "      <th>4</th>\n",
       "      <td>Shop - 1:1 - Desk - [shop promo]</td>\n",
       "      <td>Promo</td>\n",
       "    </tr>\n",
       "  </tbody>\n",
       "</table>\n",
       "</div>"
      ],
      "text/plain": [
       "                                   Ad Group      Type\n",
       "0    Shop - 1:1 - Desk - [shop coupon code]    Coupon\n",
       "1         Shop - 1:1 - Desk - [shop coupon]    Coupon\n",
       "2  Shop - 1:1 - Desk - [shop discount code]  Discount\n",
       "3     Shop - 1:1 - Desk - [shop promo code]     Promo\n",
       "4          Shop - 1:1 - Desk - [shop promo]     Promo"
      ]
     },
     "execution_count": 6,
     "metadata": {},
     "output_type": "execute_result"
    }
   ],
   "source": [
    "\n",
    "df['Type'] = df['Ad Group']\n",
    "\n",
    "df['Type'][df['Type'].str.contains('Free Shipping')]='Free Shipping'\n",
    "df['Type'][df['Type'].str.contains('coupon')]='Coupon'\n",
    "df['Type'][df['Type'].str.contains('Coupon')]='Coupon'\n",
    "df['Type'][df['Type'].str.contains('promo')]='Promo'\n",
    "df['Type'][df['Type'].str.contains('Promo')]='Promo'\n",
    "df['Type'][df['Type'].str.contains('discount')]='Discount'\n",
    "df['Type'][df['Type'].str.contains('Discount')]='Discount'\n",
    "df['Type'][df['Type'].str.contains('Competitor')]='Competitor'\n",
    "df['Type'][df['Type'].str.contains('Offer')]='Offer'\n",
    "df['Type'][df['Type'].str.contains('Sale')]='Sale'\n",
    "df['Type'][df['Type'].str.contains('Black Friday')]='Black Friday'\n",
    "\n",
    "df[['Ad Group','Type']].head()"
   ]
  },
  {
   "cell_type": "code",
   "execution_count": 7,
   "metadata": {},
   "outputs": [
    {
     "data": {
      "text/html": [
       "<div>\n",
       "<style scoped>\n",
       "    .dataframe tbody tr th:only-of-type {\n",
       "        vertical-align: middle;\n",
       "    }\n",
       "\n",
       "    .dataframe tbody tr th {\n",
       "        vertical-align: top;\n",
       "    }\n",
       "\n",
       "    .dataframe thead th {\n",
       "        text-align: right;\n",
       "    }\n",
       "</style>\n",
       "<table border=\"1\" class=\"dataframe\">\n",
       "  <thead>\n",
       "    <tr style=\"text-align: right;\">\n",
       "      <th></th>\n",
       "      <th>Ad Group</th>\n",
       "      <th>Media</th>\n",
       "    </tr>\n",
       "  </thead>\n",
       "  <tbody>\n",
       "    <tr>\n",
       "      <th>0</th>\n",
       "      <td>Shop - 1:1 - Desk - [shop coupon code]</td>\n",
       "      <td>Desktop</td>\n",
       "    </tr>\n",
       "    <tr>\n",
       "      <th>1</th>\n",
       "      <td>Shop - 1:1 - Desk - [shop coupon]</td>\n",
       "      <td>Desktop</td>\n",
       "    </tr>\n",
       "    <tr>\n",
       "      <th>2</th>\n",
       "      <td>Shop - 1:1 - Desk - [shop discount code]</td>\n",
       "      <td>Desktop</td>\n",
       "    </tr>\n",
       "    <tr>\n",
       "      <th>3</th>\n",
       "      <td>Shop - 1:1 - Desk - [shop promo code]</td>\n",
       "      <td>Desktop</td>\n",
       "    </tr>\n",
       "    <tr>\n",
       "      <th>4</th>\n",
       "      <td>Shop - 1:1 - Desk - [shop promo]</td>\n",
       "      <td>Desktop</td>\n",
       "    </tr>\n",
       "  </tbody>\n",
       "</table>\n",
       "</div>"
      ],
      "text/plain": [
       "                                   Ad Group    Media\n",
       "0    Shop - 1:1 - Desk - [shop coupon code]  Desktop\n",
       "1         Shop - 1:1 - Desk - [shop coupon]  Desktop\n",
       "2  Shop - 1:1 - Desk - [shop discount code]  Desktop\n",
       "3     Shop - 1:1 - Desk - [shop promo code]  Desktop\n",
       "4          Shop - 1:1 - Desk - [shop promo]  Desktop"
      ]
     },
     "execution_count": 7,
     "metadata": {},
     "output_type": "execute_result"
    }
   ],
   "source": [
    "df['Media'] = df['Ad Group']\n",
    "\n",
    "df['Media'][df['Media'].str.contains('Desk')] = 'Desktop'\n",
    "df['Media'][df['Media'].str.contains('Mob')] = 'Mobile'\n",
    "\n",
    "df[['Ad Group','Media']].head()"
   ]
  },
  {
   "cell_type": "code",
   "execution_count": 8,
   "metadata": {},
   "outputs": [
    {
     "data": {
      "text/html": [
       "<div>\n",
       "<style scoped>\n",
       "    .dataframe tbody tr th:only-of-type {\n",
       "        vertical-align: middle;\n",
       "    }\n",
       "\n",
       "    .dataframe tbody tr th {\n",
       "        vertical-align: top;\n",
       "    }\n",
       "\n",
       "    .dataframe thead th {\n",
       "        text-align: right;\n",
       "    }\n",
       "</style>\n",
       "<table border=\"1\" class=\"dataframe\">\n",
       "  <thead>\n",
       "    <tr style=\"text-align: right;\">\n",
       "      <th></th>\n",
       "      <th>Impressions</th>\n",
       "      <th>Cost</th>\n",
       "      <th>CPM</th>\n",
       "    </tr>\n",
       "  </thead>\n",
       "  <tbody>\n",
       "    <tr>\n",
       "      <th>0</th>\n",
       "      <td>16038</td>\n",
       "      <td>6669</td>\n",
       "      <td>415.82</td>\n",
       "    </tr>\n",
       "    <tr>\n",
       "      <th>1</th>\n",
       "      <td>36462</td>\n",
       "      <td>13746</td>\n",
       "      <td>377.00</td>\n",
       "    </tr>\n",
       "    <tr>\n",
       "      <th>2</th>\n",
       "      <td>3635</td>\n",
       "      <td>1606</td>\n",
       "      <td>441.82</td>\n",
       "    </tr>\n",
       "    <tr>\n",
       "      <th>3</th>\n",
       "      <td>26185</td>\n",
       "      <td>13278</td>\n",
       "      <td>507.08</td>\n",
       "    </tr>\n",
       "    <tr>\n",
       "      <th>4</th>\n",
       "      <td>808</td>\n",
       "      <td>391</td>\n",
       "      <td>483.91</td>\n",
       "    </tr>\n",
       "  </tbody>\n",
       "</table>\n",
       "</div>"
      ],
      "text/plain": [
       "   Impressions   Cost     CPM\n",
       "0        16038   6669  415.82\n",
       "1        36462  13746  377.00\n",
       "2         3635   1606  441.82\n",
       "3        26185  13278  507.08\n",
       "4          808    391  483.91"
      ]
     },
     "execution_count": 8,
     "metadata": {},
     "output_type": "execute_result"
    }
   ],
   "source": [
    "df['CPM'] = df['Cost'] / df['Impressions'] * 1000\n",
    "df['CPM'] = df['CPM'].round(2)\n",
    "\n",
    "df[['Impressions', 'Cost', 'CPM']].head()"
   ]
  },
  {
   "cell_type": "code",
   "execution_count": 11,
   "metadata": {},
   "outputs": [],
   "source": [
    "df.to_excel(\"clean_final_shop_6modata.xlsx\")"
   ]
  }
 ],
 "metadata": {
  "kernelspec": {
   "display_name": "Python 3",
   "language": "python",
   "name": "python3"
  },
  "language_info": {
   "codemirror_mode": {
    "name": "ipython",
    "version": 3
   },
   "file_extension": ".py",
   "mimetype": "text/x-python",
   "name": "python",
   "nbconvert_exporter": "python",
   "pygments_lexer": "ipython3",
   "version": "3.8.0"
  }
 },
 "nbformat": 4,
 "nbformat_minor": 2
}
